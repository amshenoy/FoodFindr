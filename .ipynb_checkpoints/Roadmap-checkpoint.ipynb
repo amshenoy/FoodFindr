{
 "metadata": {
  "name": "",
  "signature": "sha256:c22222af96d6c344ff38fd3cc17685a092557d9c1487706777718e1526c3daa1"
 },
 "nbformat": 3,
 "nbformat_minor": 0,
 "worksheets": [
  {
   "cells": [
    {
     "cell_type": "markdown",
     "metadata": {},
     "source": [
      "This notebook contains an outline of my project. \n",
      "\n",
      "Each section contains the goal of the section, the way in which I will accomplish that goal, and the ways in which I could expand/validate the section."
     ]
    },
    {
     "cell_type": "heading",
     "level": 1,
     "metadata": {},
     "source": [
      "Roadmap"
     ]
    },
    {
     "cell_type": "markdown",
     "metadata": {},
     "source": [
      "**The problem**:\n",
      "Yelp gives each business an overall score from 1-5 stars, but it does provide information of any finer granularity. What if you could search Yelp for \"burrito\" and get results that give you a \"burrito score\" for each restaurant?\n",
      "\n",
      "My application does this through sentiment analysis of the text in Yelp reviews. It presents a user interface similar to that of Yelp with two text entry boxes for a search term and location. The results then look like those of Yelp, but with extra information collected from the sentiment analysis, including information on the search term."
     ]
    },
    {
     "cell_type": "heading",
     "level": 2,
     "metadata": {},
     "source": [
      "Outline"
     ]
    },
    {
     "cell_type": "markdown",
     "metadata": {},
     "source": [
      "Methodology of Blair-Goldensohn et al. 2008: http://static.googleusercontent.com/media/research.google.com/en/us/pubs/archive/34368.pdf\n",
      "1. Text extractor (Reviews --> sentences/phrases)\n",
      "2. Tokenizer (convert sentences into meaningful tokens)\n",
      "3. Sentiment classifier (attach sentiment to each sentence/phrase)\n",
      "4. Aspect Extractor (find target of sentiment in each sentence/phrase)\n",
      "5. Aggregate over each aspect for summary of results"
     ]
    },
    {
     "cell_type": "heading",
     "level": 3,
     "metadata": {},
     "source": [
      "1. Text extractor"
     ]
    },
    {
     "cell_type": "markdown",
     "metadata": {},
     "source": [
      "NLTK has a sentence tokenizer. nltk.sent_tokenize(): http://www.nltk.org/api/nltk.tokenize.html\n",
      "\n",
      "I have not figured out how to extract clauses or phrases from within sentences (18 Jan 2015)."
     ]
    },
    {
     "cell_type": "heading",
     "level": 3,
     "metadata": {},
     "source": [
      "2. Tokenizer"
     ]
    },
    {
     "cell_type": "markdown",
     "metadata": {},
     "source": [
      "Tokenization description for sentiment analysis and python code here:\n",
      "http://sentiment.christopherpotts.net/tokenizing.html\n",
      "\n",
      "NLTK has a word tokenizer. nltk.word_tokenize(): http://www.nltk.org/api/nltk.tokenize.html"
     ]
    },
    {
     "cell_type": "heading",
     "level": 3,
     "metadata": {},
     "source": [
      "3. Sentiment classifier"
     ]
    },
    {
     "cell_type": "markdown",
     "metadata": {},
     "source": [
      "TextBlob sentences have a sentence polarity method (sentence.sentiment.polarity): https://pypi.python.org/pypi/textblob"
     ]
    },
    {
     "cell_type": "markdown",
     "metadata": {},
     "source": [
      "**More advanced**: \n",
      "Bootstrap a sentiment lexicon. Use it (and maybe overall review-rating) to score each sentence."
     ]
    },
    {
     "cell_type": "heading",
     "level": 3,
     "metadata": {},
     "source": [
      "4. Aspect extractor"
     ]
    },
    {
     "cell_type": "markdown",
     "metadata": {},
     "source": [
      "How to find the nouns/phrases/topics associated with each sentence?"
     ]
    },
    {
     "cell_type": "markdown",
     "metadata": {},
     "source": [
      "1. Automatically\n",
      "   - LDA to define topics of the entire corpus?\n",
      "   OR\n",
      "   - Short strings that follow certain syntactic patterns?\n",
      "2. Manually\n",
      "   - Hand-code a set of topics (decor, atmosphere, etc.)\n",
      "   - Then, manually classify a few sentences.\n",
      "   - Label the rest through a classification algorithm. Predictors: part of speech, sentence length, word frequency, ..."
     ]
    },
    {
     "cell_type": "heading",
     "level": 3,
     "metadata": {},
     "source": [
      "5. Aggregate sentiment scores"
     ]
    },
    {
     "cell_type": "markdown",
     "metadata": {},
     "source": [
      "Aggregate scores for the search term over each restaurant and return results."
     ]
    },
    {
     "cell_type": "code",
     "collapsed": false,
     "input": [],
     "language": "python",
     "metadata": {},
     "outputs": []
    },
    {
     "cell_type": "heading",
     "level": 2,
     "metadata": {},
     "source": [
      "Implementing the Algorithms Above"
     ]
    },
    {
     "cell_type": "markdown",
     "metadata": {},
     "source": [
      "What happens when a user click's \"search\"?"
     ]
    },
    {
     "cell_type": "markdown",
     "metadata": {},
     "source": [
      "Option A (High storage, Low Computation):\n",
      "\n",
      "1. We look through a set of pre-defined dishes/features to find the one being searched (not great).\n",
      "2. We simply retrieve restaurant data from a SQL table ordered by the score being requested.\n",
      "3. Regularly update the scores for each dish/feature offline.\n",
      "\n",
      "**Pros**:\n",
      "Fast. Auto-complete can guarantee that the search term is in the known lexicon.\n",
      "\n",
      "**Cons**:\n",
      "Requires that the search term be known and previously scored. Potentially high storage cost (every score for every restaurant)."
     ]
    },
    {
     "cell_type": "markdown",
     "metadata": {},
     "source": [
      "Option B (High computation, Low storage):\n",
      "\n",
      "1. Dynamically figure out what category of business in which the target lies (based on word frequency?)\n",
      "2. Search just those business reviews for the term in question.\n",
      "3. Execute sentiment analysis as described above.\n",
      "\n",
      "**Pros**: Little additional storage required. Does not restrict user to a previously defined set of search terms.\n",
      "\n",
      "**Cons**: May be too computationally intensive to return results quickly. Unnecessarily repeat the same search over and over (e.g. many users searching for \"burrito\")."
     ]
    },
    {
     "cell_type": "markdown",
     "metadata": {},
     "source": [
      "The prefered option depends on the resources available to support this functionality and user behavior (do they search the same term over and over, or do they search all sorts of terms?).\n",
      "\n",
      "I could take a hybrid approach in which the common themes (food, atmosphere, value, ...) are pre-computed, and individual dish searches can be accomodated on the fly. Who knows!?"
     ]
    },
    {
     "cell_type": "code",
     "collapsed": false,
     "input": [],
     "language": "python",
     "metadata": {},
     "outputs": []
    }
   ],
   "metadata": {}
  }
 ]
}