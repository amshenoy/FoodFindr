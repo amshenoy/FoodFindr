{
 "metadata": {
  "name": "",
  "signature": "sha256:4dea2a69b1212e75db53bb170277885b6c92b519c1001613d7fbe5c4bbac3c78"
 },
 "nbformat": 3,
 "nbformat_minor": 0,
 "worksheets": [
  {
   "cells": [
    {
     "cell_type": "markdown",
     "metadata": {},
     "source": [
      "This notebook contains an exploratory analysis of Yelp data for Phoenix, AX, released as part of the Yelp Data Challenge 2014."
     ]
    },
    {
     "cell_type": "code",
     "collapsed": false,
     "input": [
      "import pandas as pd\n",
      "import numpy as np\n",
      "import json\n",
      "import matplotlib.pyplot as plt\n",
      "from collections import Counter\n",
      "%matplotlib inline"
     ],
     "language": "python",
     "metadata": {},
     "outputs": [],
     "prompt_number": 1
    },
    {
     "cell_type": "heading",
     "level": 1,
     "metadata": {},
     "source": [
      "1. Read Data"
     ]
    },
    {
     "cell_type": "heading",
     "level": 3,
     "metadata": {},
     "source": [
      "a. Business Data"
     ]
    },
    {
     "cell_type": "code",
     "collapsed": false,
     "input": [
      "# Open file and read one json object at a time\n",
      "data = []\n",
      "json_data = open('data/yelp_academic_dataset_business.json')\n",
      "for line in json_data:\n",
      "    data.append(json.loads(line))\n",
      "\n",
      "json_data.close()\n",
      "\n",
      "# Convert to pandas dataframe\n",
      "business_data = pd.DataFrame(data)\n",
      "#business_data.head()"
     ],
     "language": "python",
     "metadata": {},
     "outputs": [],
     "prompt_number": 2
    },
    {
     "cell_type": "markdown",
     "metadata": {},
     "source": [
      "- **attributes**:\n",
      ">Dictionary of variable length. Each key is a feature of the business ('HasTV', 'Take-out', ...) and the values are boolean indicators of whether that key exists in the particular restaurant.\n",
      "- **business_id**:\n",
      ">Unique 22-length string identifying each business\n",
      "- **categories**:\n",
      ">List of strings indicating to which categories a given business belongs. For example, [Chinese, Restaurants]\n",
      "- **city**:\n",
      ">String of city in which the business is located. Cities belong to one of five urban centers around Phoenix AZ, Las Vegas NV, Madison WI, Waterloo CAN, or Edinburgh SCOT. Cities are often suburbs in the associated metropolitan area.\n",
      "- **full_address**:\n",
      ">String of the full street address of the business.\n",
      "- **hours**:\n",
      ">Dictionary of variable length indicating days and hours of open hours during the week.\n",
      "- **latitude, longitude**:\n",
      ">Float values of lat/lon of the business\n",
      "- **name**:\n",
      ">String of the name of the business\n",
      "- **neighborhoods**:\n",
      ">List of strings indicating local neighborhood name(s) in which the business resides. About 60% of entries are empty (no neighborhood listed).\n",
      "- **open**:\n",
      ">Boolean indicating whether the business is still open or not.\n",
      "- **review_count**:\n",
      ">Integer of the number of reviews in the dataset associated with this business.\n",
      "- **stars**:\n",
      ">Float indicating the number of stars in the overall Yelp review\n",
      "- **state**:\n",
      ">String indicating the state in which the business resides. Most values accurately correspond to the region in which the business is located. However, there are more than 5 unique values in this field, indicating that there may be some errors. These errors are likely not significant in number.\n",
      "- **type**:\n",
      ">String that equals 'business'. It is the same for all rows and therefore does not add value to this dataset."
     ]
    },
    {
     "cell_type": "heading",
     "level": 5,
     "metadata": {},
     "source": [
      "Filter Business Data"
     ]
    },
    {
     "cell_type": "code",
     "collapsed": false,
     "input": [
      "# Keep only open businesses\n",
      "business_data = business_data[business_data['open']==True]\n",
      "\n",
      "# Keep only restaurants\n",
      "rest = []\n",
      "for cats in business_data.categories:\n",
      "    category_string = ''.join(cats).lower()\n",
      "    rest.append('restaurant' in category_string)   # keep restaurants\n",
      "                #(('mexican' in category_string) |    # keep mexican and tex-mex\n",
      "                #('tex-mex' in category_string)))\n",
      "                \n",
      "restaurant_data = business_data[rest]\n",
      "\n",
      "# Keep restaurants in Pheonix because that's the city with the most mexican restaurants\n",
      "restaurant_data = restaurant_data[restaurant_data['state']=='AZ']\n",
      "\n",
      "# Create label for mexican restaurants\n",
      "def add_labels(restaurant_data,labels):\n",
      "    \"\"\"\n",
      "    Add a column labeling each restaurant as belonging to one category.\n",
      "    \n",
      "    labels - should be a list of labels\n",
      "    \"\"\"\n",
      "    \n",
      "    for label in labels:\n",
      "        thislabel = []\n",
      "        for cats in restaurant_data.categories:\n",
      "            category_string = ''.join(cats).lower()\n",
      "            thislabel.append(label.lower() in category_string)\n",
      "\n",
      "        # Add this label to restaurant_data data frame\n",
      "        restaurant_data[label] = thislabel\n",
      "        \n",
      "    return restaurant_data\n",
      "\n",
      "labels = ['mexican','american','asian','japanese','chinese','pizza','sushi','traditional','italian','french','german','english']\n",
      "restaurant_data = add_labels(restaurant_data,labels)"
     ],
     "language": "python",
     "metadata": {},
     "outputs": [],
     "prompt_number": 3
    },
    {
     "cell_type": "heading",
     "level": 3,
     "metadata": {},
     "source": [
      "b. Review Data"
     ]
    },
    {
     "cell_type": "code",
     "collapsed": false,
     "input": [
      "# Open file and read one json object at a time\n",
      "data = []\n",
      "json_data = open('data/yelp_academic_dataset_review.json')\n",
      "business_ids = restaurant_data['business_id'].values\n",
      "count = 0\n",
      "for line in json_data:\n",
      "    tempjson = json.loads(line)\n",
      "    \n",
      "    # Only add to data if the business is in the group above\n",
      "    if tempjson['business_id'] in business_ids:\n",
      "        data.append(tempjson)\n",
      "    count += 1\n",
      "    if (count % 100000)==0: print count\n",
      "\n",
      "json_data.close()\n",
      "\n",
      "# Convert to pandas dataframe\n",
      "review_data = pd.DataFrame(data)"
     ],
     "language": "python",
     "metadata": {},
     "outputs": [
      {
       "output_type": "stream",
       "stream": "stdout",
       "text": [
        "100000\n",
        "200000"
       ]
      },
      {
       "output_type": "stream",
       "stream": "stdout",
       "text": [
        "\n",
        "300000"
       ]
      },
      {
       "output_type": "stream",
       "stream": "stdout",
       "text": [
        "\n",
        "400000"
       ]
      },
      {
       "output_type": "stream",
       "stream": "stdout",
       "text": [
        "\n",
        "500000"
       ]
      },
      {
       "output_type": "stream",
       "stream": "stdout",
       "text": [
        "\n",
        "600000"
       ]
      },
      {
       "output_type": "stream",
       "stream": "stdout",
       "text": [
        "\n",
        "700000"
       ]
      },
      {
       "output_type": "stream",
       "stream": "stdout",
       "text": [
        "\n",
        "800000"
       ]
      },
      {
       "output_type": "stream",
       "stream": "stdout",
       "text": [
        "\n",
        "900000"
       ]
      },
      {
       "output_type": "stream",
       "stream": "stdout",
       "text": [
        "\n",
        "1000000"
       ]
      },
      {
       "output_type": "stream",
       "stream": "stdout",
       "text": [
        "\n",
        "1100000"
       ]
      },
      {
       "output_type": "stream",
       "stream": "stdout",
       "text": [
        "\n"
       ]
      }
     ],
     "prompt_number": 4
    },
    {
     "cell_type": "markdown",
     "metadata": {},
     "source": [
      "Markdown cell describing each column in the review dataframe\n",
      "- **votes**:\n",
      ">Dict with three keys: ['funny','useful','cool'] indicating the number and type of vote that this review has received.\n",
      "- **user_id**:\n",
      ">String of length 22 that indicates which user posted the review.\n",
      "- **review_id**:\n",
      ">String of length 22 that is unique to each review\n",
      "- **stars**:\n",
      ">Number of stars given in the review. Integer in [1-5].\n",
      "- **date**:\n",
      ">String of \"YYYY-MM-DD\" indicating the date on which the review was posted.\n",
      "- **text**:\n",
      ">String of variable length containing the text of the review.\n",
      "- **type**:\n",
      ">String indicating that this is a review. Like the type field in the business data, this value is always 'review' and does not add value to this dataset.\n",
      "- **business_id**:\n",
      ">String of length 22 that indicates about which business this review has been submitted."
     ]
    },
    {
     "cell_type": "heading",
     "level": 5,
     "metadata": {},
     "source": [
      "Filter Review Data"
     ]
    },
    {
     "cell_type": "code",
     "collapsed": false,
     "input": [
      "print len(review_data)\n",
      "print sum(review_data.type=='review')"
     ],
     "language": "python",
     "metadata": {},
     "outputs": [
      {
       "output_type": "stream",
       "stream": "stdout",
       "text": [
        "285764\n",
        "285764"
       ]
      },
      {
       "output_type": "stream",
       "stream": "stdout",
       "text": [
        "\n"
       ]
      }
     ],
     "prompt_number": 7
    },
    {
     "cell_type": "code",
     "collapsed": false,
     "input": [
      "# Define function to retain reviews of mexican restaurants only\n",
      "def select_by_label(restaurant_data,review_data,label):\n",
      "    \"\"\"\n",
      "    Return restaurant data and review data selected to reflect only the given label.\n",
      "    \n",
      "    restaurant_data, review_data - Pandas DataFrame objects as created above\n",
      "    label - string corresponding to one of the values in labels, added to the\n",
      "            restaurant_data DataFrame at the end of the filter business data section.\n",
      "    \"\"\"\n",
      "    \n",
      "    # Trim restaurant data to only those with the given label\n",
      "    restaurant_data = restaurant_data[restaurant_data[label]==True]\n",
      "    \n",
      "    # Loop over every review. Mark True only values with business IDs\n",
      "    # in the remaining restaurant data\n",
      "    business_ids = restaurant_data.business_id.values\n",
      "    labelbool = []\n",
      "    for busid in review_data['business_id'].values:\n",
      "        if busid in business_ids:\n",
      "            labelbool.append(True)\n",
      "        else:\n",
      "            labelbool.append(False)\n",
      "    \n",
      "    # Trim review data based on the label\n",
      "    review_data = review_data[labelbool]\n",
      "            \n",
      "    # Return restaurant and review data\n",
      "    return (restaurant_data, review_data)"
     ],
     "language": "python",
     "metadata": {},
     "outputs": [],
     "prompt_number": 8
    },
    {
     "cell_type": "heading",
     "level": 3,
     "metadata": {},
     "source": [
      "d. Data Cleaning"
     ]
    },
    {
     "cell_type": "markdown",
     "metadata": {},
     "source": [
      "Clean data in additional ways discovered through the exploratory analysis below"
     ]
    },
    {
     "cell_type": "heading",
     "level": 5,
     "metadata": {},
     "source": [
      "i. Clean up city names"
     ]
    },
    {
     "cell_type": "code",
     "collapsed": false,
     "input": [
      "restaurant_data['city'] = restaurant_data.city.str.lower()\n",
      "to_replace = ['glendale az','pheonix','phoenix sky harbor center','higley']\n",
      "value = ['glendale','phoenix','phoenix','gilbert']\n",
      "restaurant_data['city'].replace(to_replace=to_replace,value=value,inplace=True)"
     ],
     "language": "python",
     "metadata": {},
     "outputs": [],
     "prompt_number": 9
    },
    {
     "cell_type": "heading",
     "level": 1,
     "metadata": {},
     "source": [
      "2. Exploratory Data Analysis"
     ]
    },
    {
     "cell_type": "markdown",
     "metadata": {},
     "source": [
      "Plots, summary statistics, basic metrics"
     ]
    },
    {
     "cell_type": "markdown",
     "metadata": {},
     "source": [
      "Ok, now we have the restaurant and review data. What do we want to know about?\n",
      "1. How many restaurants are there? (total + mexican)\n",
      "    - map of restaurants in phoenix\n",
      "    - how many in nearby towns? (bar plot)\n",
      "2. how many reviews do those restaurants have? (total + mexican)\n",
      "3. What do the reviews look like?\n",
      "    - how long are they?\n",
      "    - what do they say? (word frequency, common words)\n",
      "    - frequency in time?\n",
      "    - who is posting? Histogram of number of posts per unique user.\n",
      "    - are they all in english?\n",
      "    - are there emoticons?\n",
      "    - is there anecdotal evidence that reviews might be able to solve our problem?\n",
      "    - other?\n",
      "4. Baseline food_score = avg of reviews that mention burritos. compare to average of restaurant. We should expect sentiment analysis to improve on this baseline score.\n",
      "5. Other?"
     ]
    },
    {
     "cell_type": "heading",
     "level": 3,
     "metadata": {},
     "source": [
      "a. How many restaurants are there of different types?"
     ]
    },
    {
     "cell_type": "heading",
     "level": 5,
     "metadata": {},
     "source": [
      "i. Number of restaurants"
     ]
    },
    {
     "cell_type": "code",
     "collapsed": false,
     "input": [
      "yvals = restaurant_data[labels].sum()\n",
      "\n",
      "# Set up figure\n",
      "fig = plt.figure()\n",
      "ax = fig.add_subplot(1,1,1)\n",
      "\n",
      "# Plot bar graph\n",
      "ax.bar(np.arange(len(yvals)),yvals.values,color='b')\n",
      "\n",
      "# Add labels and tick marks\n",
      "ax.set_xlabel('Food Type')\n",
      "ax.set_ylabel('Number of Restaurants')\n",
      "ax.set_xticks(np.arange(len(yvals)))\n",
      "ax.set_xticklabels(yvals.index,rotation=45)\n",
      "ax.set_title('{} Total Restaurants'.format(len(restaurant_data)))"
     ],
     "language": "python",
     "metadata": {},
     "outputs": [
      {
       "metadata": {},
       "output_type": "pyout",
       "prompt_number": 10,
       "text": [
        "<matplotlib.text.Text at 0x162c82090>"
       ]
      },
      {
       "metadata": {},
       "output_type": "display_data",
       "png": "[encoded data removed]",
       "text": [
        "<matplotlib.figure.Figure at 0x162be7f50>"
       ]
      }
     ],
     "prompt_number": 10
    },
    {
     "cell_type": "heading",
     "level": 5,
     "metadata": {},
     "source": [
      "ii. Map of Restaurants"
     ]
    },
    {
     "cell_type": "code",
     "collapsed": false,
     "input": [
      "# Not top priority right now (Thursday afternoon, 1/15)"
     ],
     "language": "python",
     "metadata": {},
     "outputs": [],
     "prompt_number": 380
    },
    {
     "cell_type": "heading",
     "level": 5,
     "metadata": {},
     "source": [
      "iii. Cities in which the restaurants are located"
     ]
    },
    {
     "cell_type": "code",
     "collapsed": false,
     "input": [
      "# Bar graphs of restaurants in each city, divided by mex=True or mex=False\n",
      "g = restaurant_data.groupby('city')\n",
      "cities = pd.DataFrame(g['city'].count())\n",
      "cities['mexican'] = g['mexican'].sum()\n",
      "cities['frac'] = cities['mexican']/cities['city']\n",
      "cities.sort(columns=['mexican'],ascending=False,inplace=True)"
     ],
     "language": "python",
     "metadata": {},
     "outputs": [],
     "prompt_number": 11
    },
    {
     "cell_type": "code",
     "collapsed": false,
     "input": [
      "# Plot bar graph showing restaurants per city\n",
      "\n",
      "# Numerical index for plotting\n",
      "xindex = np.arange(len(cities))\n",
      "\n",
      "# Set up figure and axis\n",
      "fig = plt.figure()\n",
      "ax = fig.add_subplot(1,1,1)\n",
      "\n",
      "# Add histogram of total data\n",
      "ax.bar(xindex,cities.city,color='b',label='Total')\n",
      "ax.bar(xindex,cities.mexican,color='r',label='Mexican')\n",
      "\n",
      "# Add text to plot\n",
      "ax.text(xindex[7],1500,'{} unique cities'.format(len(cities)))\n",
      "\n",
      "# Add labels\n",
      "ax.set_ylabel('Number of Restaurants')\n",
      "ax.set_xlabel('City Name')\n",
      "ax.set_xticks(xindex)\n",
      "names = [x.title() for x in cities.index]\n",
      "ax.set_xticklabels(names,rotation=60)\n",
      "ax.set_title('Mexican and Total Restaurants per City')\n",
      "\n",
      "# Adjust Axes\n",
      "ax.set_xlim([0,19.9])\n",
      "#ax.set_ylim([0,1000])\n",
      "\n",
      "# Legend\n",
      "ax.legend()"
     ],
     "language": "python",
     "metadata": {},
     "outputs": [
      {
       "metadata": {},
       "output_type": "pyout",
       "prompt_number": 12,
       "text": [
        "<matplotlib.legend.Legend at 0x165e9b210>"
       ]
      },
      {
       "metadata": {},
       "output_type": "display_data",
       "png": "[encoded data removed]",
       "text": [
        "<matplotlib.figure.Figure at 0x162e30d10>"
       ]
      }
     ],
     "prompt_number": 12
    },
    {
     "cell_type": "heading",
     "level": 3,
     "metadata": {},
     "source": [
      "b. How many reviews do the restaurants have?"
     ]
    },
    {
     "cell_type": "code",
     "collapsed": false,
     "input": [
      "# Histogram and basic statistics of of reviews per restaurant\n",
      "# Do this once for total restaurants, and once for mexican restaurants\n",
      "\n",
      "# Set up figure and axis\n",
      "fig = plt.figure()\n",
      "ax = fig.add_subplot(1,1,1)\n",
      "\n",
      "# Add histogram of reviews per restaurant to the axis\n",
      "restaurant_data.review_count.hist(range=[0,30],bins=30,grid=False,color='b',ax=ax,label='Total',normed=True)\n",
      "ax.hold(True)\n",
      "restaurant_data[restaurant_data['mexican']==True].review_count.hist(range=[0,30],bins=30,color='r',grid=False,ax=ax,label='Mexican',normed=True,alpha=0.5)\n",
      "\n",
      "# Add quantiles to plot\n",
      "quantiles = [0.25,0.5,0.75]\n",
      "ax.text(8,0.11,'Quantile   Num Reviews',fontweight='bold')\n",
      "for ii in range(len(quantiles)):\n",
      "    thisval = restaurant_data[restaurant_data['mexican']==True].review_count.quantile(quantiles[ii])\n",
      "    ax.text(8,0.10-ii/100.,'{0}%             {1}'.format(100*quantiles[ii],thisval))\n",
      "\n",
      "\n",
      "# Set labels and titles\n",
      "ax.set_xlabel('Reviews per Restaurant')\n",
      "ax.set_ylabel('Number of Restaurants')\n",
      "ax.set_title('Mean Number of Reviews (Mexican) = {:.0f}'.format(restaurant_data[restaurant_data['mexican']==True].review_count.mean()))\n",
      "ax.set_xlim([0,30])\n",
      "\n",
      "# Add legend\n",
      "ax.legend()"
     ],
     "language": "python",
     "metadata": {},
     "outputs": [
      {
       "metadata": {},
       "output_type": "pyout",
       "prompt_number": 13,
       "text": [
        "<matplotlib.legend.Legend at 0x16673ff10>"
       ]
      },
      {
       "metadata": {},
       "output_type": "display_data",
       "png": "[encoded data removed]",
       "text": [
        "<matplotlib.figure.Figure at 0x16634f550>"
       ]
      }
     ],
     "prompt_number": 13
    },
    {
     "cell_type": "code",
     "collapsed": false,
     "input": [],
     "language": "python",
     "metadata": {},
     "outputs": [],
     "prompt_number": 93
    },
    {
     "cell_type": "heading",
     "level": 3,
     "metadata": {},
     "source": [
      "c. What do the reviews look like?"
     ]
    },
    {
     "cell_type": "markdown",
     "metadata": {},
     "source": [
      "- how long are they?\n",
      "- what do they say? (word frequency, common words)\n",
      "- frequency in time?\n",
      "- are they all in english?\n",
      "- who is posting? Histogram of number of posts per unique user.\n",
      "- are there emoticons?\n",
      "- is there anecdotal evidence that reviews might be able to solve our problem?\n",
      "- other?"
     ]
    },
    {
     "cell_type": "heading",
     "level": 5,
     "metadata": {},
     "source": [
      "Select only Mexican Restaurants"
     ]
    },
    {
     "cell_type": "code",
     "collapsed": false,
     "input": [
      "restaurant_datam, review_datam = select_by_label(restaurant_data,review_data,'mexican')"
     ],
     "language": "python",
     "metadata": {},
     "outputs": [],
     "prompt_number": 20
    },
    {
     "cell_type": "code",
     "collapsed": false,
     "input": [
      "len(review_datam.iloc[0].text.split(' '))"
     ],
     "language": "python",
     "metadata": {},
     "outputs": [
      {
       "metadata": {},
       "output_type": "pyout",
       "prompt_number": 25,
       "text": [
        "40"
       ]
      }
     ],
     "prompt_number": 25
    },
    {
     "cell_type": "heading",
     "level": 5,
     "metadata": {},
     "source": [
      "i. How long are the reviews?"
     ]
    },
    {
     "cell_type": "code",
     "collapsed": false,
     "input": [
      "# Make histogram of length of reviews\n",
      "rev_len = review_datam['text'].map(len)   # number of characters\n",
      "rev_len = review_datam['text'].map(lambda x: len(x.split()))  # number of words\n",
      "\n",
      "# Make figure\n",
      "fig = plt.figure()\n",
      "ax = fig.add_subplot(1,1,1)\n",
      "\n",
      "# Add histogram to figure\n",
      "rev_len.hist(grid=False,range=[0,500],bins=50)\n",
      "\n",
      "# Add quantiles to plot\n",
      "quantiles = [0.25,0.5,0.75]\n",
      "ax.text(200,2000,'Quantile   Num Reviews',fontweight='bold')\n",
      "for ii in range(len(quantiles)):\n",
      "    thisval = rev_len.quantile(quantiles[ii])\n",
      "    ax.text(200,1850-150*ii,'{0}%             {1}'.format(100*quantiles[ii],thisval))\n",
      "\n",
      "# Make labels\n",
      "ax.set_xlabel('Number of Words per Review')\n",
      "ax.set_ylabel('Number of Reviews')\n",
      "ax.set_title('Mean length = {:.1f}'.format(np.mean(rev_len)))"
     ],
     "language": "python",
     "metadata": {},
     "outputs": [
      {
       "metadata": {},
       "output_type": "pyout",
       "prompt_number": 33,
       "text": [
        "<matplotlib.text.Text at 0x168701e90>"
       ]
      },
      {
       "metadata": {},
       "output_type": "display_data",
       "png": "[encoded data removed]",
       "text": [
        "<matplotlib.figure.Figure at 0x16836ead0>"
       ]
      }
     ],
     "prompt_number": 33
    },
    {
     "cell_type": "heading",
     "level": 5,
     "metadata": {},
     "source": [
      "ii. What do they say? (word frequency, common words)"
     ]
    },
    {
     "cell_type": "code",
     "collapsed": false,
     "input": [
      "# Count word frequency.\n",
      "# Be sure to:\n",
      "#     split on white space\n",
      "#     convert to lowercase\n",
      "#     replace contractions\n",
      "#     remove words with non-alphabetic characters\n",
      "#         keep '?' and '!' in for sentiment analysis because they mean something\n",
      "#     collapse all insances of more than 3 consecutive characters to 3\n",
      "res = Counter(\" \".join(review_datam['text'].str.lower().values.tolist()).split(\" \")).items()"
     ],
     "language": "python",
     "metadata": {},
     "outputs": [
      {
       "output_type": "stream",
       "stream": "stdout",
       "text": [
        "(u'', 94411)\n"
       ]
      }
     ],
     "prompt_number": 34
    },
    {
     "cell_type": "code",
     "collapsed": false,
     "input": [
      "sorted_words = sorted(res,key=lambda x: x[1],reverse=True)\n",
      "bb = dict(sorted_words)\n",
      "\n",
      "# Ratio of common spanish to english word counts shows that most review are in english\n",
      "print \"Spanish \",bb['muy']+bb['mucho'],'         ', \"English \",bb['very']+bb['much']\n",
      "print \"Spanish \",bb['bueno']+bb['bien'],'          ', \"English \",bb['good']+bb['well']"
     ],
     "language": "python",
     "metadata": {},
     "outputs": [
      {
       "metadata": {},
       "output_type": "pyout",
       "prompt_number": 54,
       "text": [
        "140478"
       ]
      }
     ],
     "prompt_number": 54
    },
    {
     "cell_type": "heading",
     "level": 5,
     "metadata": {},
     "source": [
      "iii. Time series of reviews"
     ]
    },
    {
     "cell_type": "markdown",
     "metadata": {},
     "source": [
      "Bin reviews into time bins.\n",
      "- Make a pandas dataframe in which a datetime object is the index.\n",
      "- Sample (bin) with a given frequency."
     ]
    },
    {
     "cell_type": "heading",
     "level": 5,
     "metadata": {},
     "source": [
      "iv. Number of posts by user"
     ]
    },
    {
     "cell_type": "code",
     "collapsed": false,
     "input": [
      "# The most often-posting users (top 1%) have >=75% posts to unique businesses\n",
      "#userposts = review_datam.groupby('user_id')['stars'].count()\n",
      "#userposts.sort()\n",
      "#print len(userposts), \"unique users have posted reviews\"\n",
      "#print \"User,               # posts,    # businesses,    ratio\"\n",
      "#for ii in range(1,11):\n",
      "#    uid = userposts.index[-ii]\n",
      "#    nbus = len(review_datam[review_datam['user_id']==uid]['business_id'].unique())\n",
      "#    print uid, userposts.loc[uid], nbus, float(nbus)/userposts.loc[uid]"
     ],
     "language": "python",
     "metadata": {},
     "outputs": [],
     "prompt_number": 132
    },
    {
     "cell_type": "code",
     "collapsed": false,
     "input": [
      "# Group reviews by user_id\n",
      "g = review_datam.groupby('user_id')\n",
      "\n",
      "# Make figure\n",
      "fig = plt.figure()\n",
      "ax = fig.add_subplot(1,1,1)\n",
      "\n",
      "# Add histogram to figure\n",
      "num_reviews = g['stars'].count()\n",
      "num_reviews.hist(grid=False,range=[1,20],bins=20)\n",
      "\n",
      "# Add quantiles to plot\n",
      "quantiles = [0.25,0.5,0.75,0.99,1.00]\n",
      "ax.text(7,14000,'Quantile   Num Reviews',fontweight='bold')\n",
      "for ii in range(len(quantiles)):\n",
      "    thisval = num_reviews.quantile(quantiles[ii])\n",
      "    ax.text(7,12500-1000*ii,'{0}%             {1}'.format(100*quantiles[ii],thisval))"
     ],
     "language": "python",
     "metadata": {},
     "outputs": [
      {
       "metadata": {},
       "output_type": "display_data",
       "png": "[encoded data removed]",
       "text": [
        "<matplotlib.figure.Figure at 0x17ce1fbd0>"
       ]
      }
     ],
     "prompt_number": 133
    },
    {
     "cell_type": "heading",
     "level": 5,
     "metadata": {},
     "source": [
      "v. Other inquiries into the text?"
     ]
    },
    {
     "cell_type": "code",
     "collapsed": false,
     "input": [],
     "language": "python",
     "metadata": {},
     "outputs": []
    }
   ],
   "metadata": {}
  }
 ]
}