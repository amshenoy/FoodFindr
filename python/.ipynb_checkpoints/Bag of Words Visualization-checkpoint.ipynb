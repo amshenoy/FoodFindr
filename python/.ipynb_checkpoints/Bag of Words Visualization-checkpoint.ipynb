{
 "metadata": {
  "name": "",
  "signature": "sha256:f62bd6f86e598ca456a7cf7112492e83711c6c98db771e1ff9ad953a29dc4d63"
 },
 "nbformat": 3,
 "nbformat_minor": 0,
 "worksheets": [
  {
   "cells": [
    {
     "cell_type": "markdown",
     "metadata": {},
     "source": [
      "This notebook classifies text using the bag of words method."
     ]
    },
    {
     "cell_type": "markdown",
     "metadata": {},
     "source": [
      "1. Read sentence data from file\n",
      "2. label some senteces\n",
      "3. create bag of words features (relative frequency of each word for each label)\n",
      "4. Train classifier to determine the sentiment of a sentence given the words in that sentence and the relative frequency of words in each labeled sentence. See application of bag-of-words using nltk here: \n",
      "    - http://stackoverflow.com/questions/10098533/implementing-bag-of-words-naive-bayes-classifier-in-nltk\n",
      "    - http://www.nltk.org/book/ch06.html\n",
      "5. test classifier on remaining data"
     ]
    },
    {
     "cell_type": "code",
     "collapsed": false,
     "input": [
      "import pandas as pd\n",
      "import numpy as np\n",
      "import random\n",
      "import nltk\n",
      "import collections\n",
      "import string\n",
      "import sentiment as ss\n",
      "from wordcloud import WordCloud"
     ],
     "language": "python",
     "metadata": {},
     "outputs": [],
     "prompt_number": 1
    },
    {
     "cell_type": "heading",
     "level": 3,
     "metadata": {},
     "source": [
      "1. Read sentence from data"
     ]
    },
    {
     "cell_type": "code",
     "collapsed": false,
     "input": [
      "words = pd.read_pickle('../data/pandas/word_count_mexican_train.pkl')"
     ],
     "language": "python",
     "metadata": {},
     "outputs": [],
     "prompt_number": 2
    },
    {
     "cell_type": "heading",
     "level": 3,
     "metadata": {},
     "source": [
      "3. Create bag of words features (relative frequency of each word for each label)"
     ]
    },
    {
     "cell_type": "code",
     "collapsed": false,
     "input": [
      "# Filter words by frequency\n",
      "total = words.sum(1)\n",
      "overallfreq = total / total.sum()\n",
      "threshold = 0.001\n",
      "words = words[overallfreq>threshold]\n",
      "freq = words.div(words.sum(1),axis='index')"
     ],
     "language": "python",
     "metadata": {},
     "outputs": [],
     "prompt_number": 4
    },
    {
     "cell_type": "code",
     "collapsed": false,
     "input": [
      "# Set up figure\n",
      "#fig,ax = plt.subplots(5,1,figsize=(10,20))\n",
      "\n",
      "# Make plots based on sorted order of arrays\n",
      "sorted1 = freq.sort('1',ascending=False)\n",
      "count = 0\n",
      "for col in sorted(sorted1.columns):\n",
      "    # Make series that is the ratio of this column/the rest\n",
      "    ratio = sorted1[col] / (1-sorted1[col])\n",
      "    ratio = ratio.order(ascending=False)\n",
      "    \n",
      "    # Generate list of words to use \n",
      "    temp = ''\n",
      "    for w in ratio.index[0:40]:\n",
      "        noccur = ratio[w]*100\n",
      "        wordlist = [w]*noccur\n",
      "        temp += (' '.join(wordlist) + ' ')\n",
      "    \n",
      "    # Send info to plots\n",
      "    row = np.floor(count/3.)\n",
      "    column = (count%3)\n",
      "    wordcloud = WordCloud(font_path='/Library/Fonts/Verdana.ttf').generate(str(temp))\n",
      "    #ax[count].imshow(wordcloud)\n",
      "    #ax[count].set_title(col+' Stars',fontsize=40)\n",
      "    #ax[count].set_xticklabels('')\n",
      "    #ax[count].set_yticklabels('')\n",
      "    \n",
      "    # Figure\n",
      "    fig = plt.figure()\n",
      "    ax = fig.add_subplot(111)\n",
      "    plt.imshow(wordcloud)\n",
      "    fig_name = 'img/WordCloud_{}_Stars.png'.format(int(col))\n",
      "    ax.set_title(col + ' Stars',fontsize=24)\n",
      "    ax.set_xticklabels('')\n",
      "    ax.set_yticklabels('')\n",
      "    plt.savefig(fig_name,bbox_inches='tight')\n",
      "    \n",
      "    count += 1\n"
     ],
     "language": "python",
     "metadata": {},
     "outputs": [],
     "prompt_number": 5
    },
    {
     "cell_type": "code",
     "collapsed": false,
     "input": [],
     "language": "python",
     "metadata": {},
     "outputs": [
      {
       "metadata": {},
       "output_type": "pyout",
       "prompt_number": 181,
       "text": [
        "81105"
       ]
      }
     ],
     "prompt_number": 181
    },
    {
     "cell_type": "code",
     "collapsed": false,
     "input": [
      "def lenunique(l):\n",
      "    ulist = []\n",
      "    ll = l.split()\n",
      "    [ulist.append(x) for x in ll if x not in ulist]\n",
      "    return len(ulist)\n",
      "\n",
      "# Number of reviews and average review length in each category\n",
      "reviews = pd.read_pickle('../data/pandas/review_mexican_train.pkl')\n",
      "stargroups = reviews.groupby('stars')['text']\n",
      "meanlength = stargroups.sum().map(len) / stargroups.count()\n",
      "uniqlength = stargroups.sum().map(lenunique)\n",
      "unique_word_scale = 10.\n",
      "tempdf = pd.concat([stargroups.count(),meanlength,uniqlength/unique_word_scale],axis=1)\n",
      "tempdf.columns = ['# Reviews','Avg. Length','Unique Words / {}'.format(unique_word_scale)]\n",
      "\n",
      "\n",
      "\n",
      "# Set up plot\n",
      "fontsize = 36\n",
      "fig,ax = plt.subplots(1,1,figsize=(10,8))\n",
      "tempdf.plot(kind='bar',grid=False,ax=ax,width=0.9)\n",
      "ax.legend(prop={'size':24})\n",
      "ax.set_xlabel('Stars',fontsize=fontsize)\n",
      "ax.set_xticklabels(tempdf.index,fontsize=fontsize,rotation=0)\n",
      "yticks = np.arange(5)*200\n",
      "ax.set_yticks(yticks)\n",
      "ax.set_yticklabels([str(y) for y in yticks],fontsize=fontsize)\n",
      "ax.set_ylim([0,900])\n",
      "\n",
      "# Add bar graphs to plot\n",
      "#tempdf.plot(kind='bar',ax=ax)"
     ],
     "language": "python",
     "metadata": {},
     "outputs": [
      {
       "metadata": {},
       "output_type": "pyout",
       "prompt_number": 226,
       "text": [
        "(0, 900)"
       ]
      },
      {
       "metadata": {},
       "output_type": "display_data",
       "png": "[encoded data removed]",
       "text": [
        "<matplotlib.figure.Figure at 0x118d5b450>"
       ]
      }
     ],
     "prompt_number": 226
    }
   ],
   "metadata": {}
  }
 ]
}