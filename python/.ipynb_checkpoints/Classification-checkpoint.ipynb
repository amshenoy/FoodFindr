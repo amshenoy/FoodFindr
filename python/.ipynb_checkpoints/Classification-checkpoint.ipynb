{
 "metadata": {
  "name": "",
  "signature": "sha256:c8eac7a3c5a212bcb35f38d7d4ea2d2e31c6e8f170cc27f59b0bd8af9bbd6846"
 },
 "nbformat": 3,
 "nbformat_minor": 0,
 "worksheets": [
  {
   "cells": [
    {
     "cell_type": "markdown",
     "metadata": {},
     "source": [
      "This notebook contains my attempt to train a classifier on yelp reviews, trying to predict whether they are 1,2,3,4, or 5 star reviews."
     ]
    },
    {
     "cell_type": "code",
     "collapsed": false,
     "input": [
      "import classification\n",
      "import pandas as pd\n",
      "import collections\n",
      "import random\n",
      "from sklearn.naive_bayes import BernoulliNB, MultinomialNB\n",
      "%matplotlib inline\n",
      "reload(classification)"
     ],
     "language": "python",
     "metadata": {},
     "outputs": [
      {
       "metadata": {},
       "output_type": "pyout",
       "prompt_number": 35,
       "text": [
        "<module 'classification' from 'classification.py'>"
       ]
      }
     ],
     "prompt_number": 35
    },
    {
     "cell_type": "code",
     "collapsed": false,
     "input": [
      "append_string = '_mexican'   # '_mexican_train' for small subset of data, '' for all restaurant data\n",
      "type_string = 'review'"
     ],
     "language": "python",
     "metadata": {},
     "outputs": [],
     "prompt_number": 7
    },
    {
     "cell_type": "code",
     "collapsed": false,
     "input": [
      "# Calculate lemmas to use for the classification\n",
      "#lemmas = classification.lemma_count(type_string='review',by='stars',append_string='_mexican')\n",
      "#lemma_count = classification.build_lemma_list(lemmas,interrogate=False)  # saves lemmas to data/pandas/lemma_list.txt\n",
      "#lemmas = lemma_count.columns"
     ],
     "language": "python",
     "metadata": {},
     "outputs": [],
     "prompt_number": 14
    },
    {
     "cell_type": "code",
     "collapsed": false,
     "input": [
      "# Read lemmas to include as features in classifcation\n",
      "with open('../data/pandas/lemma_list.txt', 'r') as f:\n",
      "    lemma_list = [line.decode('unicode-escape').rstrip(u'\\n') for line in f]"
     ],
     "language": "python",
     "metadata": {},
     "outputs": [],
     "prompt_number": 8
    },
    {
     "cell_type": "code",
     "collapsed": false,
     "input": [
      "X, y = classification.build_training_input(lemma_list,type_string='review',append_string='_mexican')"
     ],
     "language": "python",
     "metadata": {},
     "outputs": [
      {
       "output_type": "stream",
       "stream": "stdout",
       "text": [
        "processing  38664  documents\n",
        "0\n",
        "10000"
       ]
      },
      {
       "output_type": "stream",
       "stream": "stdout",
       "text": [
        "\n",
        "20000"
       ]
      },
      {
       "output_type": "stream",
       "stream": "stdout",
       "text": [
        "\n",
        "30000"
       ]
      },
      {
       "output_type": "stream",
       "stream": "stdout",
       "text": [
        "\n"
       ]
      },
      {
       "output_type": "stream",
       "stream": "stderr",
       "text": [
        "classification.py:273: SettingWithCopyWarning: \n",
        "A value is trying to be set on a copy of a slice from a DataFrame.\n",
        "Try using .loc[row_indexer,col_indexer] = value instead\n",
        "\n",
        "See the the caveats in the documentation: http://pandas.pydata.org/pandas-docs/stable/indexing.html#indexing-view-versus-copy\n",
        "  Xdf = Xdf.loc[Xdf.sum(1)!=0,:]\n"
       ]
      }
     ],
     "prompt_number": 36
    },
    {
     "cell_type": "code",
     "collapsed": false,
     "input": [
      "indices = np.arange(len(y))\n",
      "random.shuffle(indices)\n",
      "half = len(y)/2\n",
      "ytrain = np.asarray(y.iloc[indices[:half]])\n",
      "ytest  = np.asarray(y.iloc[indices[half:]])\n",
      "Xtrain = np.asarray(X.iloc[indices[:half],:])\n",
      "Xtest  = np.asarray(X.iloc[indices[half:],:])"
     ],
     "language": "python",
     "metadata": {},
     "outputs": [],
     "prompt_number": 37
    },
    {
     "cell_type": "code",
     "collapsed": false,
     "input": [
      "model = MultinomialNB(alpha=1.0, class_prior=None, fit_prior=True)\n",
      "result = model.fit(Xtrain,ytrain)\n",
      "result.score(Xtest,ytest)"
     ],
     "language": "python",
     "metadata": {},
     "outputs": [
      {
       "metadata": {},
       "output_type": "pyout",
       "prompt_number": 38,
       "text": [
        "0.53296738367268781"
       ]
      }
     ],
     "prompt_number": 38
    },
    {
     "cell_type": "code",
     "collapsed": false,
     "input": [
      "ypred = result.predict(Xtest)\n",
      "\n",
      "# Make 5x5 matrix of results\n",
      "#    x-axis = predicted category\n",
      "#    y-axis = true category\n",
      "frac2d = np.zeros((5,5))\n",
      "ypred = result.predict(Xtest)\n",
      "for true_stars in range(1,6):\n",
      "    # Calculate fraction of results in each category\n",
      "    thesevals = ypred[ytest==true_stars]\n",
      "    thesevals = np.bincount(thesevals.astype(np.int32))\n",
      "    frac2d[:,true_stars-1] = thesevals[1:]/float(sum(thesevals[1:]))"
     ],
     "language": "python",
     "metadata": {},
     "outputs": [],
     "prompt_number": 39
    },
    {
     "cell_type": "code",
     "collapsed": false,
     "input": [
      "fig = plt.figure()\n",
      "ax  = fig.add_subplot(111)\n",
      "matrix = ax.imshow(frac2d, cmap=plt.get_cmap('PuBu'),interpolation='None',origin='lower')\n",
      "plt.colorbar(matrix)\n",
      "ax.set_yticks([ii for ii in range(5)])\n",
      "ax.set_yticklabels([str(ii+1) for ii in range(5)])\n",
      "ax.set_xticks([ii for ii in range(5)])\n",
      "ax.set_xticklabels([str(ii+1) for ii in range(5)])\n",
      "ax.set_ylabel('Predicted Stars')\n",
      "ax.set_xlabel('True Stars')\n",
      "matrix.set_clim([0,1])"
     ],
     "language": "python",
     "metadata": {},
     "outputs": [
      {
       "metadata": {},
       "output_type": "display_data",
       "png": "[encoded data removed]",
       "text": [
        "<matplotlib.figure.Figure at 0x16c4ced90>"
       ]
      }
     ],
     "prompt_number": 40
    },
    {
     "cell_type": "code",
     "collapsed": false,
     "input": [],
     "language": "python",
     "metadata": {},
     "outputs": []
    },
    {
     "cell_type": "code",
     "collapsed": false,
     "input": [],
     "language": "python",
     "metadata": {},
     "outputs": []
    },
    {
     "cell_type": "code",
     "collapsed": false,
     "input": [],
     "language": "python",
     "metadata": {},
     "outputs": []
    },
    {
     "cell_type": "code",
     "collapsed": false,
     "input": [],
     "language": "python",
     "metadata": {},
     "outputs": []
    },
    {
     "cell_type": "code",
     "collapsed": false,
     "input": [],
     "language": "python",
     "metadata": {},
     "outputs": []
    },
    {
     "cell_type": "code",
     "collapsed": false,
     "input": [],
     "language": "python",
     "metadata": {},
     "outputs": []
    },
    {
     "cell_type": "code",
     "collapsed": false,
     "input": [],
     "language": "python",
     "metadata": {},
     "outputs": []
    }
   ],
   "metadata": {}
  }
 ]
}