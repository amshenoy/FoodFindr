{
 "metadata": {
  "name": "",
  "signature": "sha256:16e867014b066a76dbc85db9595ff9fdb024863020c62e102478afc3103322d1"
 },
 "nbformat": 3,
 "nbformat_minor": 0,
 "worksheets": [
  {
   "cells": [
    {
     "cell_type": "markdown",
     "metadata": {},
     "source": [
      "This notebook contains the data story that I pull from the project."
     ]
    },
    {
     "cell_type": "code",
     "collapsed": false,
     "input": [
      "import pandas as pd\n",
      "import numpy as np\n",
      "import random\n",
      "import classification\n",
      "import matplotlib.pyplot as plt\n",
      "from sklearn.naive_bayes import BernoulliNB, MultinomialNB\n",
      "%matplotlib inline"
     ],
     "language": "python",
     "metadata": {},
     "outputs": [],
     "prompt_number": 2
    },
    {
     "cell_type": "code",
     "collapsed": false,
     "input": [
      "# Restore review data to train and test model\n",
      "reviews = pd.read_pickle('../data/pandas/review_lemmas_mexican.pkl')\n",
      "X, y, index = classification.build_training_input(dataframe)"
     ],
     "language": "python",
     "metadata": {},
     "outputs": [
      {
       "output_type": "stream",
       "stream": "stdout",
       "text": [
        "processing  38664  documents\n",
        "0\n",
        "4000"
       ]
      },
      {
       "output_type": "stream",
       "stream": "stdout",
       "text": [
        "\n",
        "8000"
       ]
      },
      {
       "output_type": "stream",
       "stream": "stdout",
       "text": [
        "\n",
        "12000"
       ]
      },
      {
       "output_type": "stream",
       "stream": "stdout",
       "text": [
        "\n",
        "16000"
       ]
      },
      {
       "output_type": "stream",
       "stream": "stdout",
       "text": [
        "\n",
        "20000"
       ]
      },
      {
       "output_type": "stream",
       "stream": "stdout",
       "text": [
        "\n",
        "24000"
       ]
      },
      {
       "output_type": "stream",
       "stream": "stdout",
       "text": [
        "\n",
        "28000"
       ]
      },
      {
       "output_type": "stream",
       "stream": "stdout",
       "text": [
        "\n",
        "32000"
       ]
      },
      {
       "output_type": "stream",
       "stream": "stdout",
       "text": [
        "\n",
        "36000"
       ]
      },
      {
       "output_type": "stream",
       "stream": "stdout",
       "text": [
        "\n"
       ]
      }
     ],
     "prompt_number": 3
    },
    {
     "cell_type": "code",
     "collapsed": false,
     "input": [
      "# Train on 2/3, test on 1/3\n",
      "indices = np.arange(len(y))\n",
      "random.seed(12345)\n",
      "random.shuffle(indices)\n",
      "div = 2*len(y)/3\n",
      "Xtrain = X[:div,:]\n",
      "ytrain = y[:div]\n",
      "Xtest = X[div:,:]\n",
      "ytest = y[div:]\n",
      "index_train = index[:div]\n",
      "index_test = index[div:]\n",
      "\n",
      "model = MultinomialNB(alpha=1.0, class_prior=None, fit_prior=True)\n",
      "results = model.fit(Xtrain,ytrain)\n",
      "print \"Mean Accuracy on Train Data = \", results.score(Xtrain,ytrain)\n",
      "print \"Mean Accuracy on Test Data = \", results.score(Xtest,ytest)"
     ],
     "language": "python",
     "metadata": {},
     "outputs": [
      {
       "output_type": "stream",
       "stream": "stdout",
       "text": [
        "Mean Accuracy on Train Data =  "
       ]
      },
      {
       "output_type": "stream",
       "stream": "stdout",
       "text": [
        "0.570279586365\n",
        "Mean Accuracy on Test Data =  0.54246050742\n"
       ]
      }
     ],
     "prompt_number": 4
    },
    {
     "cell_type": "code",
     "collapsed": false,
     "input": [
      "# Plot Distribution of reviews for all reviews, sentences, sentences filtered by a keyword.\n",
      "fig = plt.figure()\n",
      "ax = fig.add_subplot(111)\n",
      "\n",
      "# Group review and sentence datasets\n",
      "revdist = reviews.groupby('stars')['stars'].count()\n",
      "sentdist = sentences.groupby('stars')['stars'].count()\n",
      "sentscoredist = sentences.groupby('FF_score')['FF_score'].count()\n",
      "\n",
      "# Lines representing distribution\n",
      "ax.plot(np.arange(1,6),revdist/revdist.sum(),'-b',lw=4,label='Reviews')\n",
      "ax.plot(np.arange(1,6),sentdist/sentdist.sum(),'-g',lw=4,label='Sentence Stars')\n",
      "ax.plot(np.arange(1,6),sentscoredist/sentscoredist.sum(),'-r',lw=4,label='Sentence FF')\n",
      "\n",
      "ax.set_xlim([0.5,5.5])\n",
      "ax.set_ylim([0,0.4])\n",
      "ax.legend(loc='best')"
     ],
     "language": "python",
     "metadata": {},
     "outputs": [
      {
       "metadata": {},
       "output_type": "pyout",
       "prompt_number": 24,
       "text": [
        "<matplotlib.legend.Legend at 0x136b82750>"
       ]
      },
      {
       "metadata": {},
       "output_type": "display_data",
       "png": "[encoded data removed]",
       "text": [
        "<matplotlib.figure.Figure at 0x136baf6d0>"
       ]
      }
     ],
     "prompt_number": 24
    },
    {
     "cell_type": "code",
     "collapsed": false,
     "input": [
      "# Plot Distribution of reviews for all reviews, sentences, sentences filtered by a keyword.\n",
      "fig = plt.figure()\n",
      "ax = fig.add_subplot(111)\n",
      "\n",
      "# Group review and sentence datasets\n",
      "sentdist = sentences.groupby('stars')['stars'].count()\n",
      "sentscoredist = sentences.groupby('FF_score')['FF_score'].count()\n",
      "\n",
      "# Lines representing distribution\n",
      "groups = ['service','margarita']#,'burrito']\n",
      "colors = ['b','g','r']\n",
      "ax.plot(np.arange(1,6),sentscoredist/sentscoredist.sum(),'--k',lw=2,label='all sentences')\n",
      "for g,c in zip(groups,colors):\n",
      "    tempdf = sentences[sentences['text'].str.contains(g)]\n",
      "    num = tempdf.groupby('FF_score')['FF_score'].count()\n",
      "    ax.plot(np.arange(1,6),num/num.sum(),'-',color=c,lw=4,label=g)\n",
      "    \n",
      "\n",
      "ax.set_xlim([0.5,5.5])\n",
      "ax.set_ylim([0.05,0.4])\n",
      "ax.legend(loc='best')\n",
      "\n",
      "plt.savefig('img/FFscore_distribution_all.png')"
     ],
     "language": "python",
     "metadata": {},
     "outputs": [
      {
       "metadata": {},
       "output_type": "display_data",
       "png": "[encoded data removed]",
       "text": [
        "<matplotlib.figure.Figure at 0x13698d690>"
       ]
      }
     ],
     "prompt_number": 37
    },
    {
     "cell_type": "code",
     "collapsed": false,
     "input": [
      "# Plot Distribution of reviews for all reviews, sentences, sentences filtered by a keyword.\n",
      "fig = plt.figure()\n",
      "ax = fig.add_subplot(111)\n",
      "\n",
      "# Group review and sentence datasets\n",
      "sentdist = sentences.groupby('stars')['stars'].count()\n",
      "\n",
      "# Lines representing distribution\n",
      "groups = ['service','margarita']#,'burrito']\n",
      "colors = ['b','g','r']\n",
      "ax.plot(np.arange(1,6),sentdist/sentdist.sum(),'--k',lw=2,label='baseline')\n",
      "for g,c in zip(groups,colors):\n",
      "    tempdf = sentences[sentences['text'].str.contains(g)]\n",
      "    num = tempdf.groupby('stars')['stars'].count()\n",
      "    ax.plot(np.arange(1,6),num/num.sum(),'-',color=c,lw=4,label=g)\n",
      "    \n",
      "\n",
      "ax.set_xlim([0.5,5.5])\n",
      "ax.set_ylim([0.05,0.4])\n",
      "ax.legend(loc='best')\n",
      "\n",
      "plt.savefig('img/Ref_distribution_all.png')"
     ],
     "language": "python",
     "metadata": {},
     "outputs": [
      {
       "metadata": {},
       "output_type": "display_data",
       "png": "[encoded data removed]",
       "text": [
        "<matplotlib.figure.Figure at 0x123defe10>"
       ]
      }
     ],
     "prompt_number": 36
    },
    {
     "cell_type": "code",
     "collapsed": false,
     "input": [],
     "language": "python",
     "metadata": {},
     "outputs": []
    },
    {
     "cell_type": "code",
     "collapsed": false,
     "input": [
      "# Read sentence data\n",
      "sentences = pd.read_pickle('../data/pandas/sentences_lemmas_scored_mexican.pkl')"
     ],
     "language": "python",
     "metadata": {},
     "outputs": [],
     "prompt_number": 6
    },
    {
     "cell_type": "code",
     "collapsed": false,
     "input": [],
     "language": "python",
     "metadata": {},
     "outputs": []
    }
   ],
   "metadata": {}
  }
 ]
}