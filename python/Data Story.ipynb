{
 "metadata": {
  "name": "",
  "signature": "sha256:b411b9e45ad71bf8742f2fac96800186767ba0e081df039dda8e5cc6f59fa40e"
 },
 "nbformat": 3,
 "nbformat_minor": 0,
 "worksheets": [
  {
   "cells": [
    {
     "cell_type": "markdown",
     "metadata": {},
     "source": [
      "This notebook contains the data story that I pull from the project."
     ]
    },
    {
     "cell_type": "code",
     "collapsed": false,
     "input": [
      "import pandas as pd\n",
      "import numpy as np\n",
      "import random\n",
      "import classification\n",
      "import matplotlib.pyplot as plt\n",
      "from sklearn.naive_bayes import BernoulliNB, MultinomialNB\n",
      "%matplotlib inline"
     ],
     "language": "python",
     "metadata": {},
     "outputs": [],
     "prompt_number": 1
    },
    {
     "cell_type": "code",
     "collapsed": false,
     "input": [
      "reviews = pd.read_pickle('../data/pandas/review_lemmas_mexican.pkl')"
     ],
     "language": "python",
     "metadata": {},
     "outputs": [],
     "prompt_number": 2
    },
    {
     "cell_type": "code",
     "collapsed": false,
     "input": [
      "nvotes = reviews.groupby('stars')['stars'].count().values\n",
      "pcorrect = nvotes / float(sum(nvotes))\n",
      "print \"Fraction correct with a weighted random guess = \", (nvotes*pcorrect).sum() / nvotes.sum()"
     ],
     "language": "python",
     "metadata": {},
     "outputs": [
      {
       "output_type": "stream",
       "stream": "stdout",
       "text": [
        "Fraction correct with a weighted random guess =  0.250044115181\n"
       ]
      }
     ],
     "prompt_number": 19
    },
    {
     "cell_type": "code",
     "collapsed": false,
     "input": [
      "# Restore review data to train and test model\n",
      "reviews = pd.read_pickle('../data/pandas/review_lemmas_mexican.pkl')\n",
      "X, y, index = classification.build_training_input(reviews)"
     ],
     "language": "python",
     "metadata": {},
     "outputs": [
      {
       "output_type": "stream",
       "stream": "stdout",
       "text": [
        "processing  38664  documents\n",
        "0\n",
        "4000"
       ]
      },
      {
       "output_type": "stream",
       "stream": "stdout",
       "text": [
        "\n",
        "8000"
       ]
      },
      {
       "output_type": "stream",
       "stream": "stdout",
       "text": [
        "\n",
        "12000"
       ]
      },
      {
       "output_type": "stream",
       "stream": "stdout",
       "text": [
        "\n",
        "16000"
       ]
      },
      {
       "output_type": "stream",
       "stream": "stdout",
       "text": [
        "\n",
        "20000"
       ]
      },
      {
       "output_type": "stream",
       "stream": "stdout",
       "text": [
        "\n",
        "24000"
       ]
      },
      {
       "output_type": "stream",
       "stream": "stdout",
       "text": [
        "\n",
        "28000"
       ]
      },
      {
       "output_type": "stream",
       "stream": "stdout",
       "text": [
        "\n",
        "32000"
       ]
      },
      {
       "output_type": "stream",
       "stream": "stdout",
       "text": [
        "\n",
        "36000"
       ]
      },
      {
       "output_type": "stream",
       "stream": "stdout",
       "text": [
        "\n"
       ]
      }
     ],
     "prompt_number": 4
    },
    {
     "cell_type": "code",
     "collapsed": false,
     "input": [
      "# Train on 2/3, test on 1/3\n",
      "indices = np.arange(len(y))\n",
      "random.seed(12345)\n",
      "random.shuffle(indices)\n",
      "div = 2*len(y)/3\n",
      "Xtrain = X[:div,:]\n",
      "ytrain = y[:div]\n",
      "Xtest = X[div:,:]\n",
      "ytest = y[div:]\n",
      "index_train = index[:div]\n",
      "index_test = index[div:]\n",
      "\n",
      "model = MultinomialNB(alpha=1.0, class_prior=None, fit_prior=True)\n",
      "results = model.fit(Xtrain,ytrain)\n",
      "print \"Mean Accuracy on Train Data = \", results.score(Xtrain,ytrain)\n",
      "print \"Mean Accuracy on Test Data = \", results.score(Xtest,ytest)"
     ],
     "language": "python",
     "metadata": {},
     "outputs": [
      {
       "output_type": "stream",
       "stream": "stdout",
       "text": [
        "Mean Accuracy on Train Data =  "
       ]
      },
      {
       "output_type": "stream",
       "stream": "stdout",
       "text": [
        "0.570279586365\n",
        "Mean Accuracy on Test Data =  0.54246050742\n"
       ]
      }
     ],
     "prompt_number": 5
    },
    {
     "cell_type": "code",
     "collapsed": false,
     "input": [
      "sentences = pd.read_pickle('../data/pandas/sentences_lemmas_scored_mexican.pkl')"
     ],
     "language": "python",
     "metadata": {},
     "outputs": [],
     "prompt_number": 20
    },
    {
     "cell_type": "code",
     "collapsed": false,
     "input": [
      "# Plot Distribution of reviews for all reviews, sentences, sentences filtered by a keyword.\n",
      "fig = plt.figure()\n",
      "ax = fig.add_subplot(111)\n",
      "\n",
      "# Group review and sentence datasets\n",
      "revdist = reviews.groupby('stars')['stars'].count()\n",
      "sentdist = sentences.groupby('stars')['stars'].count()\n",
      "sentscoredist = sentences.groupby('FF_score')['FF_score'].count()\n",
      "\n",
      "# Lines representing distribution\n",
      "ax.plot(np.arange(1,6),revdist/revdist.sum(),'-b',lw=4,label='Reviews')\n",
      "ax.plot(np.arange(1,6),sentdist/sentdist.sum(),'-g',lw=4,label='Sentence Stars')\n",
      "ax.plot(np.arange(1,6),sentscoredist/sentscoredist.sum(),'-r',lw=4,label='Sentence FF')\n",
      "\n",
      "ax.set_xlim([0.5,5.5])\n",
      "ax.set_ylim([0,0.4])\n",
      "ax.legend(loc='best')"
     ],
     "language": "python",
     "metadata": {},
     "outputs": [
      {
       "metadata": {},
       "output_type": "pyout",
       "prompt_number": 45,
       "text": [
        "<matplotlib.legend.Legend at 0x128730a90>"
       ]
      },
      {
       "metadata": {},
       "output_type": "display_data",
       "png": "[encoded data removed]",
       "text": [
        "<matplotlib.figure.Figure at 0x113265450>"
       ]
      }
     ],
     "prompt_number": 45
    },
    {
     "cell_type": "code",
     "collapsed": false,
     "input": [
      "# Plot Distribution of reviews for all reviews, sentences, sentences filtered by a keyword.\n",
      "fig = plt.figure()\n",
      "ax = fig.add_subplot(111)\n",
      "\n",
      "# Group review and sentence datasets\n",
      "sentdist = sentences.groupby('stars')['stars'].count()\n",
      "sentscoredist = sentences.groupby('FF_score')['FF_score'].count()\n",
      "\n",
      "# Lines representing distribution\n",
      "groups = ['wait']#,'margarita']#,'burrito']\n",
      "colors = ['b','g','r']\n",
      "ax.plot(np.arange(1,6),sentscoredist/sentscoredist.sum(),'--k',lw=2,label='all sentences')\n",
      "for g,c in zip(groups,colors):\n",
      "    tempdf = sentences[sentences['text'].str.contains(g)]\n",
      "    num1 = tempdf.groupby('stars')['stars'].count()\n",
      "    num2 = tempdf.groupby('FF_score')['FF_score'].count()\n",
      "    #ax.plot(np.arange(1,6),num1/num1.sum(),'-',color='b',lw=4,label='Stars')\n",
      "    ax.plot(np.arange(1,6),num2/num2.sum(),'-',color=c,lw=4,label=g)\n",
      "    \n",
      "\n",
      "ax.set_xlim([0.5,5.5])\n",
      "ax.set_ylim([0.05,0.4])\n",
      "ax.legend(loc='upper left')\n",
      "\n",
      "plt.savefig('img/FFscore_distribution_wait.png')"
     ],
     "language": "python",
     "metadata": {},
     "outputs": [
      {
       "metadata": {},
       "output_type": "display_data",
       "png": "[encoded data removed]",
       "text": [
        "<matplotlib.figure.Figure at 0x1134e5f10>"
       ]
      }
     ],
     "prompt_number": 49
    },
    {
     "cell_type": "code",
     "collapsed": false,
     "input": [
      "# Plot Distribution of reviews for all reviews, sentences, sentences filtered by a keyword.\n",
      "fig = plt.figure()\n",
      "ax = fig.add_subplot(111)\n",
      "\n",
      "# Group review and sentence datasets\n",
      "sentdist = sentences.groupby('FF_score')['FF_score'].count()\n",
      "\n",
      "# Lines representing distribution\n",
      "groups = ['wait','margarita']#,'burrito']\n",
      "colors = ['b','g','r']\n",
      "ax.plot(np.arange(1,6),sentdist/sentdist.sum(),'--k',lw=2,label='baseline')\n",
      "for g,c in zip(groups,colors):\n",
      "    tempdf = sentences[sentences['text'].str.contains(g)]\n",
      "    num = tempdf.groupby('FF_score')['FF_score'].count()\n",
      "    ax.plot(np.arange(1,6),num/num.sum(),'-',color=c,lw=4,label=g)\n",
      "    \n",
      "\n",
      "ax.set_xlim([0.5,5.5])\n",
      "ax.set_ylim([0.05,0.4])\n",
      "ax.legend(loc='upper left')\n",
      "\n",
      "plt.savefig('img/FFscore_distribution_wait_margarita.png')"
     ],
     "language": "python",
     "metadata": {},
     "outputs": [
      {
       "metadata": {},
       "output_type": "display_data",
       "png": "[encoded data removed]",
       "text": [
        "<matplotlib.figure.Figure at 0x1134aca10>"
       ]
      }
     ],
     "prompt_number": 50
    },
    {
     "cell_type": "code",
     "collapsed": false,
     "input": [],
     "language": "python",
     "metadata": {},
     "outputs": []
    },
    {
     "cell_type": "heading",
     "level": 2,
     "metadata": {},
     "source": [
      "Tell Story for One Restaurant"
     ]
    },
    {
     "cell_type": "code",
     "collapsed": false,
     "input": [
      "# Read sentence data\n",
      "sentences = pd.read_pickle('../data/pandas/sentences_lemmas_scored_mexican.pkl')\n",
      "\n",
      "# Read data for businesses to match sentences to a given business\n",
      "business = pd.read_pickle('../data/pandas/business_mexican.pkl')\n",
      "reviews = pd.read_pickle('../data/pandas/review_mexican.pkl')"
     ],
     "language": "python",
     "metadata": {},
     "outputs": [],
     "prompt_number": 5
    },
    {
     "cell_type": "code",
     "collapsed": false,
     "input": [
      "# Get list of reviewIDs for a given business\n",
      "business_id = 'iDYzGVIF1TDWdjHNgNjCVw'   # Los Sombreros with top guacamole score\n",
      "reviews = reviews[reviews['business_id']==business_id]\n",
      "review_ids = reviews.review_id.values\n",
      "\n",
      "# Select only sentences with review_ids\n",
      "sentences = sentences[sentences['review_id'].isin(review_ids)]"
     ],
     "language": "python",
     "metadata": {},
     "outputs": [],
     "prompt_number": 6
    },
    {
     "cell_type": "code",
     "collapsed": false,
     "input": [
      "tempid = reviews.loc[274460]['review_id']\n",
      "sentences = pd.read_pickle('../data/pandas/sentences_lemmas_scored_mexican.pkl')\n",
      "temps = sentences[sentences['review_id']==tempid]"
     ],
     "language": "python",
     "metadata": {},
     "outputs": [],
     "prompt_number": 4
    },
    {
     "cell_type": "code",
     "collapsed": false,
     "input": [
      "# Plot Distribution of reviews for all reviews, sentences, sentences filtered by a keyword.\n",
      "fig = plt.figure()\n",
      "ax = fig.add_subplot(111)\n",
      "\n",
      "# Group review and sentence datasets\n",
      "sentdist = sentences.groupby('FF_score')['FF_score'].count()\n",
      "\n",
      "# Lines representing distribution\n",
      "groups = ['guacamole','salsa']\n",
      "colors = ['g','r']\n",
      "width = 0.25\n",
      "ax.bar(np.arange(1,6)-0.40,sentdist/sentdist.sum(),width,color='grey',label='all reviews')\n",
      "count = 0\n",
      "for g,c in zip(groups,colors):\n",
      "    if g=='service':\n",
      "        tempdf = sentences[sentences['text'].str.contains(g) | sentences['text'].str.contains('waiter') |\n",
      "                           sentences['text'].str.contains('waitress') | sentences['text'].str.contains('manager')]\n",
      "    else:\n",
      "        tempdf = sentences[sentences['text'].str.contains(g)]\n",
      "    num = tempdf.groupby('FF_score')['FF_score'].count()\n",
      "    num = pd.Series(num,index=[1,2,3,4,5]).fillna(0)\n",
      "    #xvalues = np.arange(1,6)-0.425 + 0.45*count; width = 0.4\n",
      "    xvalues = np.arange(1,6)-0.15 + width*count\n",
      "    ax.bar(xvalues,num/num.sum(),width,color=c,label=g)\n",
      "    count += 1\n",
      "\n",
      "ax.set_xlim([0.5,5.5])\n",
      "ax.set_ylim([0.0,0.7])\n",
      "ax.set_xticks([])\n",
      "#ax.set_yticks([])\n",
      "ax.legend(loc='upper left',fontsize=18)\n",
      "\n",
      "plt.savefig('img/OneRestaurant_FFscore_distribution.png')"
     ],
     "language": "python",
     "metadata": {},
     "outputs": [
      {
       "metadata": {},
       "output_type": "display_data",
       "png": "[encoded data removed]",
       "text": [
        "<matplotlib.figure.Figure at 0x12bf7bc10>"
       ]
      }
     ],
     "prompt_number": 14
    },
    {
     "cell_type": "code",
     "collapsed": false,
     "input": [
      "def binom_interval(success, total, confint=0.95):\n",
      "    quantile = (1 - confint) / 2.\n",
      "    lower = beta.ppf(quantile, success, total - success + 1)\n",
      "    upper = beta.ppf(1 - quantile, success + 1, total - success)\n",
      "    return (lower, upper)"
     ],
     "language": "python",
     "metadata": {},
     "outputs": [],
     "prompt_number": 57
    },
    {
     "cell_type": "code",
     "collapsed": false,
     "input": [
      "from scipy.stats import beta\n",
      "binom_interval(9,41,confint=0.68)"
     ],
     "language": "python",
     "metadata": {},
     "outputs": [
      {
       "metadata": {},
       "output_type": "pyout",
       "prompt_number": 63,
       "text": [
        "(0.15183629550681843, 0.30306873238843834)"
       ]
      }
     ],
     "prompt_number": 63
    }
   ],
   "metadata": {}
  }
 ]
}