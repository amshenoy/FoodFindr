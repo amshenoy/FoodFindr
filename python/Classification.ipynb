{
 "metadata": {
  "name": "",
  "signature": "sha256:972668dad2f5e4c6620fecece42372c8d7a3530cbfa226b0e5a0f9d1f113be59"
 },
 "nbformat": 3,
 "nbformat_minor": 0,
 "worksheets": [
  {
   "cells": [
    {
     "cell_type": "markdown",
     "metadata": {},
     "source": [
      "This notebook contains my attempt to train a classifier on yelp reviews, trying to predict whether they are 1,2,3,4, or 5 star reviews."
     ]
    },
    {
     "cell_type": "code",
     "collapsed": false,
     "input": [
      "import classification\n",
      "import pandas as pd\n",
      "import collections\n",
      "import random\n",
      "from sklearn.naive_bayes import BernoulliNB, MultinomialNB\n",
      "from sklearn.svm import SVC\n",
      "from sklearn.ensemble import RandomForestClassifier\n",
      "import pdb\n",
      "%matplotlib inline\n",
      "reload(classification)"
     ],
     "language": "python",
     "metadata": {},
     "outputs": [
      {
       "metadata": {},
       "output_type": "pyout",
       "prompt_number": 2,
       "text": [
        "<module 'classification' from 'classification.pyc'>"
       ]
      }
     ],
     "prompt_number": 2
    },
    {
     "cell_type": "code",
     "collapsed": false,
     "input": [
      "append_string = '_mexican'   # '_mexican_train' for small subset of data, '' for all restaurant data\n",
      "type_string = 'review'"
     ],
     "language": "python",
     "metadata": {},
     "outputs": [],
     "prompt_number": 187
    },
    {
     "cell_type": "code",
     "collapsed": false,
     "input": [
      "# Calculate lemmas to use for the classification\n",
      "lemmas = classification.lemma_count(type_string='review',by='stars',append_string='_mexican')\n",
      "lemma_count = classification.build_lemma_list(lemmas,Nunique=200,interrogate=False)  # saves lemmas to data/pandas/lemma_list.txt\n",
      "#lemmas = lemma_count.columns"
     ],
     "language": "python",
     "metadata": {},
     "outputs": [],
     "prompt_number": 188
    },
    {
     "cell_type": "code",
     "collapsed": false,
     "input": [
      "# Read lemmas to include as features in classifcation\n",
      "with open('../data/pandas/lemma_list.txt', 'r') as f:\n",
      "    lemma_list = [line.decode('unicode-escape').rstrip(u'\\n') for line in f]"
     ],
     "language": "python",
     "metadata": {},
     "outputs": [],
     "prompt_number": 189
    },
    {
     "cell_type": "code",
     "collapsed": false,
     "input": [
      "dataframe = pd.read_pickle('../data/pandas/review_lemmas_mexican.pkl')\n",
      "X, y = classification.build_training_input(dataframe)"
     ],
     "language": "python",
     "metadata": {},
     "outputs": [
      {
       "ename": "NameError",
       "evalue": "name 'classification' is not defined",
       "output_type": "pyerr",
       "traceback": [
        "\u001b[0;31m---------------------------------------------------------------------------\u001b[0m\n\u001b[0;31mNameError\u001b[0m                                 Traceback (most recent call last)",
        "\u001b[0;32m<ipython-input-1-4428c8a4abcd>\u001b[0m in \u001b[0;36m<module>\u001b[0;34m()\u001b[0m\n\u001b[0;32m----> 1\u001b[0;31m \u001b[0mreload\u001b[0m\u001b[0;34m(\u001b[0m\u001b[0mclassification\u001b[0m\u001b[0;34m)\u001b[0m\u001b[0;34m\u001b[0m\u001b[0m\n\u001b[0m\u001b[1;32m      2\u001b[0m \u001b[0mdataframe\u001b[0m \u001b[0;34m=\u001b[0m \u001b[0mpd\u001b[0m\u001b[0;34m.\u001b[0m\u001b[0mread_pickle\u001b[0m\u001b[0;34m(\u001b[0m\u001b[0;34m'../data/pandas/review_lemmas_mexican.pkl'\u001b[0m\u001b[0;34m)\u001b[0m\u001b[0;34m\u001b[0m\u001b[0m\n\u001b[1;32m      3\u001b[0m \u001b[0mX\u001b[0m\u001b[0;34m,\u001b[0m \u001b[0my\u001b[0m \u001b[0;34m=\u001b[0m \u001b[0mclassification\u001b[0m\u001b[0;34m.\u001b[0m\u001b[0mbuild_training_input\u001b[0m\u001b[0;34m(\u001b[0m\u001b[0mdataframe\u001b[0m\u001b[0;34m)\u001b[0m\u001b[0;34m\u001b[0m\u001b[0m\n",
        "\u001b[0;31mNameError\u001b[0m: name 'classification' is not defined"
       ]
      }
     ],
     "prompt_number": 1
    },
    {
     "cell_type": "code",
     "collapsed": false,
     "input": [],
     "language": "python",
     "metadata": {},
     "outputs": []
    },
    {
     "cell_type": "code",
     "collapsed": false,
     "input": [
      "# Train on 2/3, test on 1/3\n",
      "indices = np.arange(len(y))\n",
      "random.seed(12345)\n",
      "random.shuffle(indices)\n",
      "div = 2*len(y)/3\n",
      "Xtrain = X[:div,:]\n",
      "ytrain = y[:div]\n",
      "Xtest = X[div:,:]\n",
      "ytest = y[div:]\n",
      "\n",
      "model = MultinomialNB(alpha=1.0, class_prior=None, fit_prior=True)\n",
      "results = model.fit(Xtrain,ytrain)\n",
      "print results.score(Xtest,ytest)\n",
      "\n",
      "frac2d = calc_frac2d(results,Xtest,ytest)\n",
      "plot_class_results(frac2d)"
     ],
     "language": "python",
     "metadata": {},
     "outputs": [
      {
       "output_type": "stream",
       "stream": "stdout",
       "text": [
        "0.514509621353\n"
       ]
      },
      {
       "metadata": {},
       "output_type": "display_data",
       "png": "[encoded data removed]",
       "text": [
        "<matplotlib.figure.Figure at 0x135d06e10>"
       ]
      }
     ],
     "prompt_number": 193
    },
    {
     "cell_type": "code",
     "collapsed": false,
     "input": [],
     "language": "python",
     "metadata": {},
     "outputs": []
    },
    {
     "cell_type": "code",
     "collapsed": false,
     "input": [],
     "language": "python",
     "metadata": {},
     "outputs": []
    },
    {
     "cell_type": "heading",
     "level": 2,
     "metadata": {},
     "source": [
      "Why Naive Bayes?"
     ]
    },
    {
     "cell_type": "markdown",
     "metadata": {},
     "source": [
      "I tried Naive Bayes, support vector machines, and random forests. They all gave very similar predictive abilities. Given that they are give similar performance, I settled on naive bayes because:\n",
      "- its methodology and results are more intuitive and interpretable (and therefore communicable) than those of support vector machines\n",
      "- the ensemble random forest classifier I tried was not compatible with sparse matrices, so it wouldn't scale\n",
      "- it is the fastest of the algorithms I tried"
     ]
    },
    {
     "cell_type": "code",
     "collapsed": false,
     "input": [
      "#model = MultinomialNB(alpha=1.0, class_prior=None, fit_prior=True)\n",
      "#model = SVC(kernel='rbf',C=100.0,gamma=2**-6.)\n",
      "#model = RandomForestClassifier(n_estimators=50)\n",
      "\n",
      "def cross_validate(model,k,X,y,return_accuracy=False):\n",
      "    \"\"\"\n",
      "    Return stacked (3D) array of classification performance\n",
      "    for each loop in k-fold cross-validation.\n",
      "    \n",
      "    mean_accuracy - if True, return mean accuracy of each loop\n",
      "                    in k-fold cross-validation, where accuracy\n",
      "                    is fraction of labels correctly predicted\n",
      "    \n",
      "    model    model object of scikit-learn\n",
      "    k        value of k in k-fold cross-validation\n",
      "    X        matrix of inputs\n",
      "    y        array of output (targets)\n",
      "    \"\"\"\n",
      "    indices = np.arange(len(y))\n",
      "    random.seed(12345)\n",
      "    random.shuffle(indices)\n",
      "    N = len(y)/k\n",
      "\n",
      "    accuracy = []\n",
      "    for index in range(k):\n",
      "        \n",
      "        begin = index*N\n",
      "        end = (index+1)*N\n",
      "        print \"k = \", index\n",
      "        these_indices = indices[begin:end]\n",
      "        Xtrain = X[~these_indices,:]\n",
      "        ytrain = y[~these_indices]\n",
      "        Xtest = X[these_indices,:]\n",
      "        ytest = y[these_indices]\n",
      "    \n",
      "        results = model.fit(Xtrain,ytrain)\n",
      "        #pdb.set_trace()\n",
      "        print \"mean accuracy = \", results.score(Xtest,ytest)\n",
      "        if return_accuracy==True:\n",
      "            accuracy.append(results.score(Xtest,ytest))\n",
      "        else:\n",
      "            if index==0:\n",
      "                frac2d = calc_frac2d(results,Xtest,ytest)\n",
      "            else:\n",
      "                temp = calc_frac2d(results,Xtest,ytest)\n",
      "                frac2d = np.dstack((frac2d,temp))\n",
      "\n",
      "    if return_accuracy==True:\n",
      "        return accuracy\n",
      "    else:\n",
      "        return frac2d\n",
      "\n",
      "k = 5\n",
      "model = MultinomialNB(alpha=1.0, class_prior=None, fit_prior=True)\n",
      "frac2d = cross_validate(model,k,X,y)"
     ],
     "language": "python",
     "metadata": {},
     "outputs": [
      {
       "output_type": "stream",
       "stream": "stdout",
       "text": [
        "k =  0\n",
        "mean accuracy = "
       ]
      },
      {
       "output_type": "stream",
       "stream": "stdout",
       "text": [
        " 0.524573202276\n",
        "k =  1\n",
        "mean accuracy = "
       ]
      },
      {
       "output_type": "stream",
       "stream": "stdout",
       "text": [
        " 0.513062596999\n",
        "k =  2\n",
        "mean accuracy = "
       ]
      },
      {
       "output_type": "stream",
       "stream": "stdout",
       "text": [
        " 0.508923952406\n",
        "k =  3\n",
        "mean accuracy = "
       ]
      },
      {
       "output_type": "stream",
       "stream": "stdout",
       "text": [
        " 0.517330574237\n",
        "k =  4\n",
        "mean accuracy = "
       ]
      },
      {
       "output_type": "stream",
       "stream": "stdout",
       "text": [
        " 0.512803931712\n"
       ]
      }
     ],
     "prompt_number": 179
    },
    {
     "cell_type": "code",
     "collapsed": false,
     "input": [
      "# Average and take standard deviation of frac2d\n",
      "mean2d = np.mean(frac2d,axis=2)\n",
      "std2d = np.std(frac2d,axis=2)\n",
      "\n",
      "\n",
      "plot_class_results(mean2d)"
     ],
     "language": "python",
     "metadata": {},
     "outputs": [
      {
       "metadata": {},
       "output_type": "display_data",
       "png": "[encoded data removed]",
       "text": [
        "<matplotlib.figure.Figure at 0x119b46610>"
       ]
      }
     ],
     "prompt_number": 167
    },
    {
     "cell_type": "code",
     "collapsed": false,
     "input": [
      "# Cross validation with Multinomial naive bayes\n",
      "model = MultinomialNB(alpha=1.0, class_prior=None, fit_prior=True)\n",
      "scores = cross_validation.cross_val_score(model, X, y, cv=5)"
     ],
     "language": "python",
     "metadata": {},
     "outputs": [],
     "prompt_number": 40
    },
    {
     "cell_type": "code",
     "collapsed": false,
     "input": [
      "#ypred = result.predict(Xtest)\n",
      "\n",
      "# Make 5x5 matrix of results\n",
      "#    x-axis = predicted category\n",
      "#    y-axis = true category\n",
      "def calc_frac2d(result,Xtest,ytest):\n",
      "    frac2d = np.zeros((5,5))\n",
      "    ypred = result.predict(Xtest)\n",
      "    for true_stars in range(1,6):\n",
      "        # Calculate fraction of results in each category\n",
      "        thesevals = ypred[ytest==true_stars]\n",
      "        thesevals = np.bincount(thesevals.astype(np.int32))\n",
      "        frac2d[:,true_stars-1] = thesevals[1:]/float(sum(thesevals[1:]))\n",
      "    \n",
      "    return frac2d"
     ],
     "language": "python",
     "metadata": {},
     "outputs": [],
     "prompt_number": 92
    },
    {
     "cell_type": "code",
     "collapsed": false,
     "input": [
      "def plot_class_results(frac2d):\n",
      "    fig = plt.figure()\n",
      "    ax  = fig.add_subplot(111)\n",
      "    matrix = ax.imshow(frac2d, cmap=plt.get_cmap('PuBu'),interpolation='None',origin='lower')\n",
      "    plt.colorbar(matrix)\n",
      "    ax.set_yticks([ii for ii in range(5)])\n",
      "    ax.set_yticklabels([str(ii+1) for ii in range(5)])\n",
      "    ax.set_xticks([ii for ii in range(5)])\n",
      "    ax.set_xticklabels([str(ii+1) for ii in range(5)])\n",
      "    ax.set_ylabel('Predicted Stars')\n",
      "    ax.set_xlabel('True Stars')\n",
      "    matrix.set_clim([0,1])"
     ],
     "language": "python",
     "metadata": {},
     "outputs": [],
     "prompt_number": 109
    },
    {
     "cell_type": "code",
     "collapsed": false,
     "input": [],
     "language": "python",
     "metadata": {},
     "outputs": []
    },
    {
     "cell_type": "code",
     "collapsed": false,
     "input": [],
     "language": "python",
     "metadata": {},
     "outputs": []
    },
    {
     "cell_type": "code",
     "collapsed": false,
     "input": [],
     "language": "python",
     "metadata": {},
     "outputs": []
    },
    {
     "cell_type": "code",
     "collapsed": false,
     "input": [],
     "language": "python",
     "metadata": {},
     "outputs": []
    },
    {
     "cell_type": "code",
     "collapsed": false,
     "input": [],
     "language": "python",
     "metadata": {},
     "outputs": []
    },
    {
     "cell_type": "code",
     "collapsed": false,
     "input": [],
     "language": "python",
     "metadata": {},
     "outputs": []
    },
    {
     "cell_type": "code",
     "collapsed": false,
     "input": [],
     "language": "python",
     "metadata": {},
     "outputs": []
    }
   ],
   "metadata": {}
  }
 ]
}