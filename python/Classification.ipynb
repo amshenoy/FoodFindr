{
 "metadata": {
  "name": "",
  "signature": "sha256:732692425e7f51d94f957cd769d8908da59749d2de7f0cee7f9e71cd554879e3"
 },
 "nbformat": 3,
 "nbformat_minor": 0,
 "worksheets": [
  {
   "cells": [
    {
     "cell_type": "markdown",
     "metadata": {},
     "source": [
      "This notebook contains my attempt to train a classifier on yelp reviews, trying to predict whether they are 1,2,3,4, or 5 star reviews."
     ]
    },
    {
     "cell_type": "code",
     "collapsed": false,
     "input": [
      "import classification\n",
      "import pandas as pd\n",
      "import collections\n",
      "import random\n",
      "from sklearn.naive_bayes import BernoulliNB, MultinomialNB\n",
      "from sklearn.svm import SVC\n",
      "from sklearn.ensemble import RandomForestClassifier\n",
      "import pdb\n",
      "%matplotlib inline\n",
      "reload(classification)"
     ],
     "language": "python",
     "metadata": {},
     "outputs": [
      {
       "metadata": {},
       "output_type": "pyout",
       "prompt_number": 177,
       "text": [
        "<module 'classification' from 'classification.pyc'>"
       ]
      }
     ],
     "prompt_number": 177
    },
    {
     "cell_type": "code",
     "collapsed": false,
     "input": [
      "append_string = '_mexican'   # '_mexican_train' for small subset of data, '' for all restaurant data\n",
      "type_string = 'review'"
     ],
     "language": "python",
     "metadata": {},
     "outputs": [],
     "prompt_number": 47
    },
    {
     "cell_type": "code",
     "collapsed": false,
     "input": [
      "# Calculate lemmas to use for the classification\n",
      "lemmas = classification.lemma_count(type_string='review',by='stars',append_string='_mexican')\n",
      "lemma_count = classification.build_lemma_list(lemmas,Nunique=200,interrogate=False)  # saves lemmas to data/pandas/lemma_list.txt\n",
      "#lemmas = lemma_count.columns"
     ],
     "language": "python",
     "metadata": {},
     "outputs": [],
     "prompt_number": 48
    },
    {
     "cell_type": "code",
     "collapsed": false,
     "input": [
      "# Read lemmas to include as features in classifcation\n",
      "with open('../data/pandas/lemma_list.txt', 'r') as f:\n",
      "    lemma_list = [line.decode('unicode-escape').rstrip(u'\\n') for line in f]"
     ],
     "language": "python",
     "metadata": {},
     "outputs": [],
     "prompt_number": 49
    },
    {
     "cell_type": "code",
     "collapsed": false,
     "input": [
      "reload(classification)\n",
      "X, y = classification.build_training_input(lemma_list,type_string='review',append_string='_mexican')"
     ],
     "language": "python",
     "metadata": {},
     "outputs": [
      {
       "output_type": "stream",
       "stream": "stdout",
       "text": [
        "processing  38664  documents\n",
        "0\n",
        "4000"
       ]
      },
      {
       "output_type": "stream",
       "stream": "stdout",
       "text": [
        "\n",
        "8000"
       ]
      },
      {
       "output_type": "stream",
       "stream": "stdout",
       "text": [
        "\n",
        "1"
       ]
      },
      {
       "output_type": "stream",
       "stream": "stdout",
       "text": [
        " <class 'scipy.sparse.lil.lil_matrix'>\n",
        "12000"
       ]
      },
      {
       "output_type": "stream",
       "stream": "stdout",
       "text": [
        "\n",
        "16000"
       ]
      },
      {
       "output_type": "stream",
       "stream": "stdout",
       "text": [
        "\n",
        "2"
       ]
      },
      {
       "output_type": "stream",
       "stream": "stdout",
       "text": [
        " <class 'scipy.sparse.lil.lil_matrix'>\n",
        "20000\n",
        "24000"
       ]
      },
      {
       "output_type": "stream",
       "stream": "stdout",
       "text": [
        "\n",
        "28000"
       ]
      },
      {
       "output_type": "stream",
       "stream": "stdout",
       "text": [
        "\n",
        "3"
       ]
      },
      {
       "output_type": "stream",
       "stream": "stdout",
       "text": [
        " <class 'scipy.sparse.lil.lil_matrix'>\n",
        "32000"
       ]
      },
      {
       "output_type": "stream",
       "stream": "stdout",
       "text": [
        "\n",
        "36000"
       ]
      },
      {
       "output_type": "stream",
       "stream": "stdout",
       "text": [
        "\n",
        "<class 'scipy.sparse.lil.lil_matrix'>"
       ]
      },
      {
       "output_type": "stream",
       "stream": "stdout",
       "text": [
        "\n",
        "<class 'scipy.sparse.lil.lil_matrix'>"
       ]
      },
      {
       "output_type": "stream",
       "stream": "stdout",
       "text": [
        "\n"
       ]
      }
     ],
     "prompt_number": 85
    },
    {
     "cell_type": "code",
     "collapsed": false,
     "input": [],
     "language": "python",
     "metadata": {},
     "outputs": []
    },
    {
     "cell_type": "code",
     "collapsed": false,
     "input": [],
     "language": "python",
     "metadata": {},
     "outputs": []
    },
    {
     "cell_type": "code",
     "collapsed": false,
     "input": [],
     "language": "python",
     "metadata": {},
     "outputs": []
    },
    {
     "cell_type": "code",
     "collapsed": false,
     "input": [],
     "language": "python",
     "metadata": {},
     "outputs": []
    },
    {
     "cell_type": "heading",
     "level": 2,
     "metadata": {},
     "source": [
      "Why Naive Bayes?"
     ]
    },
    {
     "cell_type": "markdown",
     "metadata": {},
     "source": [
      "I tried Naive Bayes, support vector machines, and random forests. They all gave very similar predictive abilities. Given that they are give similar performance, I settled on naive bayes because:\n",
      "- its methodology and results are more intuitive and interpretable (and therefore communicable) than those of support vector machines\n",
      "- the ensemble random forest classifier I tried was not compatible with sparse matrices, so it wouldn't scale\n",
      "- it is the fastest of the algorithms I tried"
     ]
    },
    {
     "cell_type": "code",
     "collapsed": false,
     "input": [
      "#model = MultinomialNB(alpha=1.0, class_prior=None, fit_prior=True)\n",
      "#model = SVC(kernel='rbf',C=100.0,gamma=2**-6.)\n",
      "#model = RandomForestClassifier(n_estimators=50)\n",
      "\n",
      "def cross_validate(model,k,X,y,return_accuracy=False):\n",
      "    \"\"\"\n",
      "    Return stacked (3D) array of classification performance\n",
      "    for each loop in k-fold cross-validation.\n",
      "    \n",
      "    mean_accuracy - if True, return mean accuracy of each loop\n",
      "                    in k-fold cross-validation, where accuracy\n",
      "                    is fraction of labels correctly predicted\n",
      "    \n",
      "    model    model object of scikit-learn\n",
      "    k        value of k in k-fold cross-validation\n",
      "    X        matrix of inputs\n",
      "    y        array of output (targets)\n",
      "    \"\"\"\n",
      "    indices = np.arange(len(y))\n",
      "    random.seed(12345)\n",
      "    random.shuffle(indices)\n",
      "    N = len(y)/k\n",
      "\n",
      "    accuracy = []\n",
      "    for index in range(k):\n",
      "        \n",
      "        begin = index*N\n",
      "        end = (index+1)*N\n",
      "        print \"k = \", index\n",
      "        these_indices = indices[begin:end]\n",
      "        Xtrain = X[~these_indices,:]\n",
      "        ytrain = y[~these_indices]\n",
      "        Xtest = X[these_indices,:]\n",
      "        ytest = y[these_indices]\n",
      "    \n",
      "        results = model.fit(Xtrain,ytrain)\n",
      "        #pdb.set_trace()\n",
      "        print \"mean accuracy = \", results.score(Xtest,ytest)\n",
      "        if return_accuracy==True:\n",
      "            accuracy.append(results.score(Xtest,ytest))\n",
      "        else:\n",
      "            if index==0:\n",
      "                frac2d = calc_frac2d(results,Xtest,ytest)\n",
      "            else:\n",
      "                temp = calc_frac2d(results,Xtest,ytest)\n",
      "                frac2d = np.dstack((frac2d,temp))\n",
      "\n",
      "    if return_accuracy==True:\n",
      "        return accuracy\n",
      "    else:\n",
      "        return frac2d\n",
      "\n",
      "k = 5\n",
      "model = MultinomialNB(alpha=1.0, class_prior=None, fit_prior=True)\n",
      "frac2d = cross_validate(model,k,X,y)"
     ],
     "language": "python",
     "metadata": {},
     "outputs": [
      {
       "output_type": "stream",
       "stream": "stdout",
       "text": [
        "k =  0\n",
        "mean accuracy = "
       ]
      },
      {
       "output_type": "stream",
       "stream": "stdout",
       "text": [
        " 0.524573202276\n",
        "k =  1\n",
        "mean accuracy = "
       ]
      },
      {
       "output_type": "stream",
       "stream": "stdout",
       "text": [
        " 0.513062596999\n",
        "k =  2\n",
        "mean accuracy = "
       ]
      },
      {
       "output_type": "stream",
       "stream": "stdout",
       "text": [
        " 0.508923952406\n",
        "k =  3\n",
        "mean accuracy = "
       ]
      },
      {
       "output_type": "stream",
       "stream": "stdout",
       "text": [
        " 0.517330574237\n",
        "k =  4\n",
        "mean accuracy = "
       ]
      },
      {
       "output_type": "stream",
       "stream": "stdout",
       "text": [
        " 0.512803931712\n"
       ]
      }
     ],
     "prompt_number": 179
    },
    {
     "cell_type": "code",
     "collapsed": false,
     "input": [
      "# Average and take standard deviation of frac2d\n",
      "mean2d = np.mean(frac2d,axis=2)\n",
      "std2d = np.std(frac2d,axis=2)\n",
      "\n",
      "\n",
      "plot_class_results(mean2d)"
     ],
     "language": "python",
     "metadata": {},
     "outputs": [
      {
       "metadata": {},
       "output_type": "display_data",
       "png": "[encoded data removed]",
       "text": [
        "<matplotlib.figure.Figure at 0x119b46610>"
       ]
      }
     ],
     "prompt_number": 167
    },
    {
     "cell_type": "code",
     "collapsed": false,
     "input": [
      "# Cross validation with Multinomial naive bayes\n",
      "model = MultinomialNB(alpha=1.0, class_prior=None, fit_prior=True)\n",
      "scores = cross_validation.cross_val_score(model, X, y, cv=5)"
     ],
     "language": "python",
     "metadata": {},
     "outputs": [],
     "prompt_number": 40
    },
    {
     "cell_type": "code",
     "collapsed": false,
     "input": [
      "len(lemma_list)"
     ],
     "language": "python",
     "metadata": {},
     "outputs": [
      {
       "metadata": {},
       "output_type": "pyout",
       "prompt_number": 114,
       "text": [
        "936"
       ]
      }
     ],
     "prompt_number": 114
    },
    {
     "cell_type": "code",
     "collapsed": false,
     "input": [
      "# Support vector machines (gaussian kernel)\n",
      "#model = svm.SVC(kernel='rbf',C=1,gamma=10-1)#,class_weight='auto'))\n",
      "#result = model.fit(Xtrain,ytrain)"
     ],
     "language": "python",
     "metadata": {},
     "outputs": []
    },
    {
     "cell_type": "code",
     "collapsed": false,
     "input": [
      "# Logistic regression\n",
      "#model = sm.Logit(y,X)\n",
      "#result = model.fit(options)"
     ],
     "language": "python",
     "metadata": {},
     "outputs": []
    },
    {
     "cell_type": "code",
     "collapsed": false,
     "input": [
      "# Multinomial Naive Bayes\n",
      "model = MultinomialNB(alpha=1.0, class_prior=None, fit_prior=True)\n",
      "result = model.fit(Xtrain,ytrain)\n",
      "result.score(Xtest,ytest)"
     ],
     "language": "python",
     "metadata": {},
     "outputs": [
      {
       "metadata": {},
       "output_type": "pyout",
       "prompt_number": 30,
       "text": [
        "0.57096154844066216"
       ]
      }
     ],
     "prompt_number": 30
    },
    {
     "cell_type": "code",
     "collapsed": false,
     "input": [
      "print np.count_nonzero(X.astype(np.ndarray))\n",
      "print X.shape[0]*X.shape[1]"
     ],
     "language": "python",
     "metadata": {},
     "outputs": [
      {
       "output_type": "stream",
       "stream": "stdout",
       "text": [
        "651113\n",
        "117395886\n"
       ]
      }
     ],
     "prompt_number": 32
    },
    {
     "cell_type": "code",
     "collapsed": false,
     "input": [
      "#ypred = result.predict(Xtest)\n",
      "\n",
      "# Make 5x5 matrix of results\n",
      "#    x-axis = predicted category\n",
      "#    y-axis = true category\n",
      "def calc_frac2d(result,Xtest,ytest):\n",
      "    frac2d = np.zeros((5,5))\n",
      "    ypred = result.predict(Xtest)\n",
      "    for true_stars in range(1,6):\n",
      "        # Calculate fraction of results in each category\n",
      "        thesevals = ypred[ytest==true_stars]\n",
      "        thesevals = np.bincount(thesevals.astype(np.int32))\n",
      "        frac2d[:,true_stars-1] = thesevals[1:]/float(sum(thesevals[1:]))\n",
      "    \n",
      "    return frac2d"
     ],
     "language": "python",
     "metadata": {},
     "outputs": [],
     "prompt_number": 92
    },
    {
     "cell_type": "code",
     "collapsed": false,
     "input": [
      "def plot_class_results(frac2d):\n",
      "    fig = plt.figure()\n",
      "    ax  = fig.add_subplot(111)\n",
      "    matrix = ax.imshow(frac2d, cmap=plt.get_cmap('PuBu'),interpolation='None',origin='lower')\n",
      "    plt.colorbar(matrix)\n",
      "    ax.set_yticks([ii for ii in range(5)])\n",
      "    ax.set_yticklabels([str(ii+1) for ii in range(5)])\n",
      "    ax.set_xticks([ii for ii in range(5)])\n",
      "    ax.set_xticklabels([str(ii+1) for ii in range(5)])\n",
      "    ax.set_ylabel('Predicted Stars')\n",
      "    ax.set_xlabel('True Stars')\n",
      "    matrix.set_clim([0,1])"
     ],
     "language": "python",
     "metadata": {},
     "outputs": [],
     "prompt_number": 109
    },
    {
     "cell_type": "code",
     "collapsed": false,
     "input": [],
     "language": "python",
     "metadata": {},
     "outputs": []
    },
    {
     "cell_type": "code",
     "collapsed": false,
     "input": [],
     "language": "python",
     "metadata": {},
     "outputs": []
    },
    {
     "cell_type": "code",
     "collapsed": false,
     "input": [],
     "language": "python",
     "metadata": {},
     "outputs": []
    },
    {
     "cell_type": "code",
     "collapsed": false,
     "input": [],
     "language": "python",
     "metadata": {},
     "outputs": []
    },
    {
     "cell_type": "code",
     "collapsed": false,
     "input": [],
     "language": "python",
     "metadata": {},
     "outputs": []
    },
    {
     "cell_type": "code",
     "collapsed": false,
     "input": [],
     "language": "python",
     "metadata": {},
     "outputs": []
    },
    {
     "cell_type": "code",
     "collapsed": false,
     "input": [],
     "language": "python",
     "metadata": {},
     "outputs": []
    }
   ],
   "metadata": {}
  }
 ]
}