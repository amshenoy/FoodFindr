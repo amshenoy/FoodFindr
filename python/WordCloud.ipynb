{
 "metadata": {
  "name": "",
  "signature": "sha256:214adec77a9c1669ef9327c44b89266bae793a9d3aacef21a2d682c782b0e004"
 },
 "nbformat": 3,
 "nbformat_minor": 0,
 "worksheets": [
  {
   "cells": [
    {
     "cell_type": "code",
     "collapsed": false,
     "input": [
      "from wordcloud import WordCloud\n",
      "import pandas as pd\n",
      "import random\n",
      "import classification"
     ],
     "language": "python",
     "metadata": {},
     "outputs": [],
     "prompt_number": 4
    },
    {
     "cell_type": "code",
     "collapsed": false,
     "input": [
      "# Restore review data to train and test model\n",
      "dataframe = pd.read_pickle('../data/pandas/review_lemmas_mexican.pkl')\n",
      "X, y, index = classification.build_training_input(dataframe)"
     ],
     "language": "python",
     "metadata": {},
     "outputs": [
      {
       "output_type": "stream",
       "stream": "stdout",
       "text": [
        "processing  38664  documents\n",
        "0\n",
        "4000"
       ]
      },
      {
       "output_type": "stream",
       "stream": "stdout",
       "text": [
        "\n",
        "8000"
       ]
      },
      {
       "output_type": "stream",
       "stream": "stdout",
       "text": [
        "\n",
        "12000"
       ]
      },
      {
       "output_type": "stream",
       "stream": "stdout",
       "text": [
        "\n",
        "16000"
       ]
      },
      {
       "output_type": "stream",
       "stream": "stdout",
       "text": [
        "\n",
        "20000"
       ]
      },
      {
       "output_type": "stream",
       "stream": "stdout",
       "text": [
        "\n",
        "24000"
       ]
      },
      {
       "output_type": "stream",
       "stream": "stdout",
       "text": [
        "\n",
        "28000"
       ]
      },
      {
       "output_type": "stream",
       "stream": "stdout",
       "text": [
        "\n",
        "32000"
       ]
      },
      {
       "output_type": "stream",
       "stream": "stdout",
       "text": [
        "\n",
        "36000"
       ]
      },
      {
       "output_type": "stream",
       "stream": "stdout",
       "text": [
        "\n"
       ]
      }
     ],
     "prompt_number": 5
    },
    {
     "cell_type": "code",
     "collapsed": false,
     "input": [
      "def row2list(row,lemmas):\n",
      "    output = []\n",
      "    dummy,col = row.nonzero()\n",
      "    for ind in col:\n",
      "        output.extend([lemma_list[ind]]*row[0,ind])\n",
      "        \n",
      "    return output"
     ],
     "language": "python",
     "metadata": {},
     "outputs": [],
     "prompt_number": 62
    },
    {
     "cell_type": "code",
     "collapsed": false,
     "input": [
      "# Read lemmas to include as features in classifcation\n",
      "with open('../data/pandas/lemma_list.txt', 'r') as f:\n",
      "    lemma_list = [line.decode('unicode-escape').rstrip(u'\\n') for line in f]"
     ],
     "language": "python",
     "metadata": {},
     "outputs": [],
     "prompt_number": 6
    },
    {
     "cell_type": "code",
     "collapsed": false,
     "input": [
      "# For a given star label, pull out rows of X that have that label\n",
      "wordlist = {}\n",
      "for k in range(1,6):\n",
      "    print \"processing stars \", k\n",
      "    thisx = X[y==k,:]\n",
      "    \n",
      "    # Make string from occurences of each word in thisx\n",
      "    thislist = []\n",
      "    for row in range(thisx.shape[0]):\n",
      "        thislist.extend(row2list(thisx[row],lemma_list))\n",
      "        \n",
      "    wordlist[str(k)] = thislist"
     ],
     "language": "python",
     "metadata": {},
     "outputs": [
      {
       "output_type": "stream",
       "stream": "stdout",
       "text": [
        "processing stars  1\n",
        "processing stars "
       ]
      },
      {
       "output_type": "stream",
       "stream": "stdout",
       "text": [
        " 2\n",
        "processing stars "
       ]
      },
      {
       "output_type": "stream",
       "stream": "stdout",
       "text": [
        " 3\n",
        "processing stars "
       ]
      },
      {
       "output_type": "stream",
       "stream": "stdout",
       "text": [
        " 4\n",
        "processing stars "
       ]
      },
      {
       "output_type": "stream",
       "stream": "stdout",
       "text": [
        " 5\n"
       ]
      }
     ],
     "prompt_number": 63
    },
    {
     "cell_type": "code",
     "collapsed": false,
     "input": [
      "for k in range(1,6):\n",
      "    string = ' '.join(wordlist[str(k)])\n",
      "    wordcloud = WordCloud(font_path='/Library/Fonts/Verdana.ttf').generate(string)\n",
      "    \n",
      "    # Figure\n",
      "    fig = plt.figure()\n",
      "    ax = fig.add_subplot(111)\n",
      "    plt.imshow(wordcloud)\n",
      "    fig_name = 'img/WordCloud_{}_Stars.png'.format(k)\n",
      "    ax.set_title(str(k) + ' Stars',fontsize=24)\n",
      "    ax.set_xticklabels('')\n",
      "    ax.set_yticklabels('')\n",
      "    plt.savefig(fig_name,bbox_inches='tight')"
     ],
     "language": "python",
     "metadata": {},
     "outputs": [],
     "prompt_number": 66
    },
    {
     "cell_type": "code",
     "collapsed": false,
     "input": [
      "row2list(X[0,:],lemma_list)"
     ],
     "language": "python",
     "metadata": {},
     "outputs": [
      {
       "output_type": "stream",
       "stream": "stdout",
       "text": [
        "[u'decent']\n",
        "<type 'list'>\n",
        "[u'fairly']\n",
        "<type 'list'>\n"
       ]
      },
      {
       "metadata": {},
       "output_type": "pyout",
       "prompt_number": 52,
       "text": [
        "[u'decent', u'fairly']"
       ]
      }
     ],
     "prompt_number": 52
    }
   ],
   "metadata": {}
  }
 ]
}