{
 "metadata": {
  "name": "",
  "signature": "sha256:1354cd828206f8526467694e5892b35971511e5e39c07c1bcd2827c30a5e77f9"
 },
 "nbformat": 3,
 "nbformat_minor": 0,
 "worksheets": [
  {
   "cells": [
    {
     "cell_type": "markdown",
     "metadata": {},
     "source": [
      "Add primary keys to mysql tables for faster querying"
     ]
    },
    {
     "cell_type": "code",
     "collapsed": false,
     "input": [
      "import pandas as pd\n",
      "import initialize"
     ],
     "language": "python",
     "metadata": {},
     "outputs": [],
     "prompt_number": 2
    },
    {
     "cell_type": "code",
     "collapsed": false,
     "input": [
      "# Restore some pickle files\n",
      "restaurant_data = pd.read_pickle('../data/pandas/business_mexican.pkl')\n",
      "review_data = pd.read_pickle('../data/pandas/review_mexican.pkl')"
     ],
     "language": "python",
     "metadata": {},
     "outputs": []
    }
   ],
   "metadata": {}
  }
 ]
}