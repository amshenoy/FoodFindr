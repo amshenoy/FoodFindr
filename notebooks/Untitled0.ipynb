{
 "metadata": {
  "name": "",
  "signature": "sha256:ae5cd4afa75aab949fc3b305da6d4327aadb09ed3681bde0564788601cd62d88"
 },
 "nbformat": 3,
 "nbformat_minor": 0,
 "worksheets": [
  {
   "cells": [
    {
     "cell_type": "markdown",
     "metadata": {},
     "source": [
      "Given a sentence of words $\\textbf{w}$, we classify the sentence with a star rating [1,5].\n",
      "\n",
      "$ Rating = \\arg\\max_R P(R|\\textbf{w}) \\propto P(R)\\cdot P(\\textbf{w}|R) $\n",
      "\n"
     ]
    }
   ],
   "metadata": {}
  }
 ]
}